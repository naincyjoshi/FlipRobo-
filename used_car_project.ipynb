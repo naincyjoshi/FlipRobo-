{
 "cells": [
  {
   "cell_type": "code",
   "execution_count": 1,
   "metadata": {},
   "outputs": [
    {
     "name": "stdout",
     "output_type": "stream",
     "text": [
      "Requirement already satisfied: scikit-plot in c:\\jpytr notebook\\lib\\site-packages (0.3.7)\n",
      "Requirement already satisfied: matplotlib>=1.4.0 in c:\\jpytr notebook\\lib\\site-packages (from scikit-plot) (3.3.2)\n",
      "Requirement already satisfied: joblib>=0.10 in c:\\jpytr notebook\\lib\\site-packages (from scikit-plot) (0.17.0)\n",
      "Requirement already satisfied: scikit-learn>=0.18 in c:\\jpytr notebook\\lib\\site-packages (from scikit-plot) (0.24.2)\n",
      "Requirement already satisfied: scipy>=0.9 in c:\\jpytr notebook\\lib\\site-packages (from scikit-plot) (1.5.2)\n",
      "Requirement already satisfied: pyparsing!=2.0.4,!=2.1.2,!=2.1.6,>=2.0.3 in c:\\jpytr notebook\\lib\\site-packages (from matplotlib>=1.4.0->scikit-plot) (2.4.7)\n",
      "Requirement already satisfied: python-dateutil>=2.1 in c:\\jpytr notebook\\lib\\site-packages (from matplotlib>=1.4.0->scikit-plot) (2.8.1)\n",
      "Requirement already satisfied: pillow>=6.2.0 in c:\\jpytr notebook\\lib\\site-packages (from matplotlib>=1.4.0->scikit-plot) (8.0.1)\n",
      "Requirement already satisfied: certifi>=2020.06.20 in c:\\jpytr notebook\\lib\\site-packages (from matplotlib>=1.4.0->scikit-plot) (2020.6.20)\n",
      "Requirement already satisfied: kiwisolver>=1.0.1 in c:\\jpytr notebook\\lib\\site-packages (from matplotlib>=1.4.0->scikit-plot) (1.3.0)\n",
      "Requirement already satisfied: cycler>=0.10 in c:\\jpytr notebook\\lib\\site-packages (from matplotlib>=1.4.0->scikit-plot) (0.10.0)\n",
      "Requirement already satisfied: numpy>=1.15 in c:\\jpytr notebook\\lib\\site-packages (from matplotlib>=1.4.0->scikit-plot) (1.19.2)\n",
      "Requirement already satisfied: threadpoolctl>=2.0.0 in c:\\jpytr notebook\\lib\\site-packages (from scikit-learn>=0.18->scikit-plot) (2.1.0)\n",
      "Requirement already satisfied: six>=1.5 in c:\\jpytr notebook\\lib\\site-packages (from python-dateutil>=2.1->matplotlib>=1.4.0->scikit-plot) (1.15.0)\n"
     ]
    }
   ],
   "source": [
    "!pip install scikit-plot"
   ]
  },
  {
   "cell_type": "code",
   "execution_count": 2,
   "metadata": {},
   "outputs": [],
   "source": [
    "import numpy as np # linear algebra\n",
    "import pandas as pd\n",
    "import matplotlib.pyplot as plt\n",
    "import seaborn as sns\n",
    "from scipy.stats import skew\n",
    "%matplotlib inline\n",
    "\n",
    "from sklearn.preprocessing import  StandardScaler\n",
    "from sklearn import preprocessing\n",
    "from sklearn.preprocessing import LabelEncoder\n",
    "from sklearn.linear_model import LinearRegression\n",
    "from sklearn.metrics import r2_score, mean_squared_error,mean_absolute_error\n",
    "\n",
    "from sklearn.metrics import accuracy_score,classification_report, confusion_matrix\n",
    "\n",
    "import warnings\n",
    "warnings.filterwarnings('ignore')"
   ]
  },
  {
   "cell_type": "code",
   "execution_count": 3,
   "metadata": {},
   "outputs": [],
   "source": [
    "import joblib\n",
    "data=joblib.load(\"used_car_details.xlsx\")"
   ]
  },
  {
   "cell_type": "code",
   "execution_count": 4,
   "metadata": {},
   "outputs": [
    {
     "data": {
      "text/html": [
       "<div>\n",
       "<style scoped>\n",
       "    .dataframe tbody tr th:only-of-type {\n",
       "        vertical-align: middle;\n",
       "    }\n",
       "\n",
       "    .dataframe tbody tr th {\n",
       "        vertical-align: top;\n",
       "    }\n",
       "\n",
       "    .dataframe thead th {\n",
       "        text-align: right;\n",
       "    }\n",
       "</style>\n",
       "<table border=\"1\" class=\"dataframe\">\n",
       "  <thead>\n",
       "    <tr style=\"text-align: right;\">\n",
       "      <th></th>\n",
       "      <th>Model</th>\n",
       "      <th>Location</th>\n",
       "      <th>Year</th>\n",
       "      <th>Driven</th>\n",
       "      <th>Variant</th>\n",
       "      <th>Price</th>\n",
       "      <th>Owner</th>\n",
       "      <th>EMI</th>\n",
       "      <th>Function</th>\n",
       "    </tr>\n",
       "  </thead>\n",
       "  <tbody>\n",
       "    <tr>\n",
       "      <th>0</th>\n",
       "      <td>Skoda Rapid 2011-2013 1.6 MPI Elegance, 2015, ...</td>\n",
       "      <td>HEBBAL, BENGALURU</td>\n",
       "      <td>2015</td>\n",
       "      <td>30,000 km</td>\n",
       "      <td>Petrol</td>\n",
       "      <td>₹ 5,95,000</td>\n",
       "      <td>NaN</td>\n",
       "      <td>NaN</td>\n",
       "      <td>NaN</td>\n",
       "    </tr>\n",
       "    <tr>\n",
       "      <th>1</th>\n",
       "      <td>MG Hector Sharp AT, 2019, Petrol</td>\n",
       "      <td>ERNAKULAM, KOCHI</td>\n",
       "      <td>2019</td>\n",
       "      <td>12,000 km</td>\n",
       "      <td>Petrol</td>\n",
       "      <td>₹ 17,60,000</td>\n",
       "      <td>NaN</td>\n",
       "      <td>NaN</td>\n",
       "      <td>NaN</td>\n",
       "    </tr>\n",
       "    <tr>\n",
       "      <th>2</th>\n",
       "      <td>BMW 5 Series 530d Highline Sedan, 2010, Diesel</td>\n",
       "      <td>MAHADEV VIHAR, DEHRADUN</td>\n",
       "      <td>2010</td>\n",
       "      <td>69,000 km</td>\n",
       "      <td>Diesel</td>\n",
       "      <td>₹ 7,51,000</td>\n",
       "      <td>NaN</td>\n",
       "      <td>NaN</td>\n",
       "      <td>NaN</td>\n",
       "    </tr>\n",
       "    <tr>\n",
       "      <th>3</th>\n",
       "      <td>Mahindra Bolero 2009 slx</td>\n",
       "      <td>VADAVALLI, COIMBATORE</td>\n",
       "      <td>2009</td>\n",
       "      <td>204,700 km</td>\n",
       "      <td>Mahindra Bolero 2009 slx</td>\n",
       "      <td>₹ 5,50,000</td>\n",
       "      <td>NaN</td>\n",
       "      <td>NaN</td>\n",
       "      <td>NaN</td>\n",
       "    </tr>\n",
       "    <tr>\n",
       "      <th>4</th>\n",
       "      <td>Maruti Suzuki Swift 2007 Petrol 92000 Km Driven</td>\n",
       "      <td>VAISHALI, GHAZIABAD</td>\n",
       "      <td>2007</td>\n",
       "      <td>93,000 km</td>\n",
       "      <td>Maruti Suzuki Swift 2007 Petrol 92000 Km Driven</td>\n",
       "      <td>₹ 1,15,000</td>\n",
       "      <td>NaN</td>\n",
       "      <td>NaN</td>\n",
       "      <td>NaN</td>\n",
       "    </tr>\n",
       "    <tr>\n",
       "      <th>...</th>\n",
       "      <td>...</td>\n",
       "      <td>...</td>\n",
       "      <td>...</td>\n",
       "      <td>...</td>\n",
       "      <td>...</td>\n",
       "      <td>...</td>\n",
       "      <td>...</td>\n",
       "      <td>...</td>\n",
       "      <td>...</td>\n",
       "    </tr>\n",
       "    <tr>\n",
       "      <th>1579</th>\n",
       "      <td>Hyundai Grand i10 Asta AT 2015</td>\n",
       "      <td>Mumbai</td>\n",
       "      <td>2015</td>\n",
       "      <td>34,028Km</td>\n",
       "      <td>Petrol</td>\n",
       "      <td>4,60,000</td>\n",
       "      <td>Second Owner</td>\n",
       "      <td>NaN</td>\n",
       "      <td>Automatic</td>\n",
       "    </tr>\n",
       "    <tr>\n",
       "      <th>1580</th>\n",
       "      <td>Hyundai Grand i10 1.2 Sportz (O) AT 2014</td>\n",
       "      <td>Mumbai</td>\n",
       "      <td>2014</td>\n",
       "      <td>47,000Km</td>\n",
       "      <td>Petrol</td>\n",
       "      <td>4,48,050</td>\n",
       "      <td>First Owner</td>\n",
       "      <td>NaN</td>\n",
       "      <td>Automatic</td>\n",
       "    </tr>\n",
       "    <tr>\n",
       "      <th>1581</th>\n",
       "      <td>Hyundai Grand i10 Magna CRDi 2014</td>\n",
       "      <td>Lucknow</td>\n",
       "      <td>2014</td>\n",
       "      <td>60,000Km</td>\n",
       "      <td>Petrol</td>\n",
       "      <td>4,65,000</td>\n",
       "      <td>First Owner</td>\n",
       "      <td>NaN</td>\n",
       "      <td>Manual</td>\n",
       "    </tr>\n",
       "    <tr>\n",
       "      <th>1582</th>\n",
       "      <td>Hyundai Grand i10 Magna 1.2 Kappa VTVT 2014</td>\n",
       "      <td>Guwahati</td>\n",
       "      <td>2014</td>\n",
       "      <td>44,000Km</td>\n",
       "      <td>Petrol</td>\n",
       "      <td>3,72,000</td>\n",
       "      <td>First Owner</td>\n",
       "      <td>NaN</td>\n",
       "      <td>Manual</td>\n",
       "    </tr>\n",
       "    <tr>\n",
       "      <th>1583</th>\n",
       "      <td>Hyundai Verna 1.6 VTVT SX 2008</td>\n",
       "      <td>Pune</td>\n",
       "      <td>2008</td>\n",
       "      <td>68,000Km</td>\n",
       "      <td>Petrol</td>\n",
       "      <td>2,32,000</td>\n",
       "      <td>Second Owner</td>\n",
       "      <td>NaN</td>\n",
       "      <td>Manual</td>\n",
       "    </tr>\n",
       "  </tbody>\n",
       "</table>\n",
       "<p>5002 rows × 9 columns</p>\n",
       "</div>"
      ],
      "text/plain": [
       "                                                  Model  \\\n",
       "0     Skoda Rapid 2011-2013 1.6 MPI Elegance, 2015, ...   \n",
       "1                      MG Hector Sharp AT, 2019, Petrol   \n",
       "2        BMW 5 Series 530d Highline Sedan, 2010, Diesel   \n",
       "3                              Mahindra Bolero 2009 slx   \n",
       "4       Maruti Suzuki Swift 2007 Petrol 92000 Km Driven   \n",
       "...                                                 ...   \n",
       "1579                     Hyundai Grand i10 Asta AT 2015   \n",
       "1580           Hyundai Grand i10 1.2 Sportz (O) AT 2014   \n",
       "1581                  Hyundai Grand i10 Magna CRDi 2014   \n",
       "1582        Hyundai Grand i10 Magna 1.2 Kappa VTVT 2014   \n",
       "1583                     Hyundai Verna 1.6 VTVT SX 2008   \n",
       "\n",
       "                     Location   Year       Driven  \\\n",
       "0           HEBBAL, BENGALURU  2015     30,000 km   \n",
       "1            ERNAKULAM, KOCHI  2019     12,000 km   \n",
       "2     MAHADEV VIHAR, DEHRADUN  2010     69,000 km   \n",
       "3       VADAVALLI, COIMBATORE  2009    204,700 km   \n",
       "4         VAISHALI, GHAZIABAD  2007     93,000 km   \n",
       "...                       ...    ...          ...   \n",
       "1579                   Mumbai   2015     34,028Km   \n",
       "1580                   Mumbai   2014     47,000Km   \n",
       "1581                  Lucknow   2014     60,000Km   \n",
       "1582                 Guwahati   2014     44,000Km   \n",
       "1583                     Pune   2008     68,000Km   \n",
       "\n",
       "                                              Variant        Price  \\\n",
       "0                                              Petrol   ₹ 5,95,000   \n",
       "1                                              Petrol  ₹ 17,60,000   \n",
       "2                                              Diesel   ₹ 7,51,000   \n",
       "3                            Mahindra Bolero 2009 slx   ₹ 5,50,000   \n",
       "4     Maruti Suzuki Swift 2007 Petrol 92000 Km Driven   ₹ 1,15,000   \n",
       "...                                               ...          ...   \n",
       "1579                                           Petrol     4,60,000   \n",
       "1580                                           Petrol     4,48,050   \n",
       "1581                                           Petrol     4,65,000   \n",
       "1582                                           Petrol     3,72,000   \n",
       "1583                                           Petrol     2,32,000   \n",
       "\n",
       "             Owner  EMI   Function  \n",
       "0              NaN  NaN        NaN  \n",
       "1              NaN  NaN        NaN  \n",
       "2              NaN  NaN        NaN  \n",
       "3              NaN  NaN        NaN  \n",
       "4              NaN  NaN        NaN  \n",
       "...            ...  ...        ...  \n",
       "1579  Second Owner  NaN  Automatic  \n",
       "1580   First Owner  NaN  Automatic  \n",
       "1581   First Owner  NaN     Manual  \n",
       "1582   First Owner  NaN     Manual  \n",
       "1583  Second Owner  NaN     Manual  \n",
       "\n",
       "[5002 rows x 9 columns]"
      ]
     },
     "execution_count": 4,
     "metadata": {},
     "output_type": "execute_result"
    }
   ],
   "source": [
    "data"
   ]
  },
  {
   "cell_type": "code",
   "execution_count": 5,
   "metadata": {},
   "outputs": [
    {
     "name": "stdout",
     "output_type": "stream",
     "text": [
      "<class 'pandas.core.frame.DataFrame'>\n",
      "Int64Index: 5002 entries, 0 to 1583\n",
      "Data columns (total 9 columns):\n",
      " #   Column    Non-Null Count  Dtype \n",
      "---  ------    --------------  ----- \n",
      " 0   Model     5002 non-null   object\n",
      " 1   Location  2331 non-null   object\n",
      " 2   Year      5002 non-null   object\n",
      " 3   Driven    5002 non-null   object\n",
      " 4   Variant   5002 non-null   object\n",
      " 5   Price     5002 non-null   object\n",
      " 6   Owner     4255 non-null   object\n",
      " 7   EMI       2671 non-null   object\n",
      " 8   Function  4255 non-null   object\n",
      "dtypes: object(9)\n",
      "memory usage: 390.8+ KB\n"
     ]
    }
   ],
   "source": [
    "data.info()"
   ]
  },
  {
   "cell_type": "markdown",
   "metadata": {},
   "source": [
    "## All are of \"Object \" datatypes"
   ]
  },
  {
   "cell_type": "code",
   "execution_count": 6,
   "metadata": {},
   "outputs": [
    {
     "data": {
      "text/html": [
       "<div>\n",
       "<style scoped>\n",
       "    .dataframe tbody tr th:only-of-type {\n",
       "        vertical-align: middle;\n",
       "    }\n",
       "\n",
       "    .dataframe tbody tr th {\n",
       "        vertical-align: top;\n",
       "    }\n",
       "\n",
       "    .dataframe thead th {\n",
       "        text-align: right;\n",
       "    }\n",
       "</style>\n",
       "<table border=\"1\" class=\"dataframe\">\n",
       "  <thead>\n",
       "    <tr style=\"text-align: right;\">\n",
       "      <th></th>\n",
       "      <th>Model</th>\n",
       "      <th>Location</th>\n",
       "      <th>Year</th>\n",
       "      <th>Driven</th>\n",
       "      <th>Variant</th>\n",
       "      <th>Price</th>\n",
       "      <th>Owner</th>\n",
       "      <th>EMI</th>\n",
       "      <th>Function</th>\n",
       "    </tr>\n",
       "  </thead>\n",
       "  <tbody>\n",
       "    <tr>\n",
       "      <th>count</th>\n",
       "      <td>5002</td>\n",
       "      <td>2331</td>\n",
       "      <td>5002</td>\n",
       "      <td>5002</td>\n",
       "      <td>5002</td>\n",
       "      <td>5002</td>\n",
       "      <td>4255</td>\n",
       "      <td>2671</td>\n",
       "      <td>4255</td>\n",
       "    </tr>\n",
       "    <tr>\n",
       "      <th>unique</th>\n",
       "      <td>2153</td>\n",
       "      <td>430</td>\n",
       "      <td>48</td>\n",
       "      <td>3396</td>\n",
       "      <td>208</td>\n",
       "      <td>3150</td>\n",
       "      <td>9</td>\n",
       "      <td>2109</td>\n",
       "      <td>621</td>\n",
       "    </tr>\n",
       "    <tr>\n",
       "      <th>top</th>\n",
       "      <td>2015 Maruti Swift</td>\n",
       "      <td>Delhi</td>\n",
       "      <td>2015</td>\n",
       "      <td>19,857Km</td>\n",
       "      <td>Petrol</td>\n",
       "      <td>5,00,000</td>\n",
       "      <td>1st Owner</td>\n",
       "      <td>₹5,005</td>\n",
       "      <td>Manual</td>\n",
       "    </tr>\n",
       "    <tr>\n",
       "      <th>freq</th>\n",
       "      <td>62</td>\n",
       "      <td>618</td>\n",
       "      <td>383</td>\n",
       "      <td>89</td>\n",
       "      <td>3202</td>\n",
       "      <td>38</td>\n",
       "      <td>2125</td>\n",
       "      <td>8</td>\n",
       "      <td>1244</td>\n",
       "    </tr>\n",
       "  </tbody>\n",
       "</table>\n",
       "</div>"
      ],
      "text/plain": [
       "                    Model Location   Year    Driven Variant     Price  \\\n",
       "count                5002     2331   5002      5002    5002      5002   \n",
       "unique               2153      430     48      3396     208      3150   \n",
       "top     2015 Maruti Swift    Delhi  2015   19,857Km  Petrol  5,00,000   \n",
       "freq                   62      618    383        89    3202        38   \n",
       "\n",
       "            Owner     EMI Function  \n",
       "count        4255    2671     4255  \n",
       "unique          9    2109      621  \n",
       "top     1st Owner  ₹5,005   Manual  \n",
       "freq         2125       8     1244  "
      ]
     },
     "execution_count": 6,
     "metadata": {},
     "output_type": "execute_result"
    }
   ],
   "source": [
    "data.describe()"
   ]
  },
  {
   "cell_type": "raw",
   "metadata": {},
   "source": [
    "There are unequal no of counts\n",
    "Unique value of each column'\n",
    "The top model with its location,year,Driven,variant,function,owner,EMI and the target column \"price\""
   ]
  },
  {
   "cell_type": "code",
   "execution_count": 7,
   "metadata": {},
   "outputs": [
    {
     "data": {
      "text/plain": [
       "Model          0\n",
       "Location    2671\n",
       "Year           0\n",
       "Driven         0\n",
       "Variant        0\n",
       "Price          0\n",
       "Owner        747\n",
       "EMI         2331\n",
       "Function     747\n",
       "dtype: int64"
      ]
     },
     "execution_count": 7,
     "metadata": {},
     "output_type": "execute_result"
    }
   ],
   "source": [
    "data.isna().sum()"
   ]
  },
  {
   "cell_type": "markdown",
   "metadata": {},
   "source": [
    "# There are missing value in the column EMI,Location,owner and the function"
   ]
  },
  {
   "cell_type": "code",
   "execution_count": 8,
   "metadata": {},
   "outputs": [
    {
     "name": "stdout",
     "output_type": "stream",
     "text": [
      "Model\n",
      "2015 Maruti Swift                           62\n",
      "2012 Maruti Swift                           49\n",
      "2013 Maruti Swift                           47\n",
      "2012 Maruti Swift Dzire                     43\n",
      "2014 Maruti Swift                           42\n",
      "                                            ..\n",
      "BMW X5 xDrive30d M Sport 2017                1\n",
      "Raghu bhai                                   1\n",
      "Tata Safari Storme EX 2013                   1\n",
      "Hyundai Elite i20 Asta 1.4 CRDI Opt 2015     1\n",
      "Chevrolet Beat LS Petrol 2010                1\n",
      "Name: Model, Length: 2153, dtype: int64\n",
      "\n",
      "Location\n",
      "Delhi                         618\n",
      "Bangalore                     205\n",
      "Kolkata                       100\n",
      "Lucknow                        92\n",
      "Mumbai                         91\n",
      "                             ... \n",
      "BHANDE CHOWK, NAGPUR            1\n",
      "CHAKARADHAR NAGAR, RAIGARH      1\n",
      "NANDA PURI, JAIPUR              1\n",
      "CHERKALA, KASARAGOD             1\n",
      "KANCHIPURAM, SRIPERUMBUDUR      1\n",
      "Name: Location, Length: 430, dtype: int64\n",
      "\n",
      "Year\n",
      "2015       383\n",
      "2014       364\n",
      "2013       358\n",
      "2017       344\n",
      "2018       317\n",
      "2016       314\n",
      "2012       284\n",
      "2019       200\n",
      "2017       187\n",
      "2015       172\n",
      "2012       169\n",
      "2018       162\n",
      "2016       162\n",
      "2013       158\n",
      "2014       158\n",
      "2010       145\n",
      "2020       131\n",
      "2011       130\n",
      "2020       123\n",
      "2011       112\n",
      "2010        90\n",
      "2019        85\n",
      "2009        82\n",
      "2009        70\n",
      "2008        55\n",
      "2008        54\n",
      "2007        45\n",
      "2021        37\n",
      "2007        23\n",
      "2006        20\n",
      "2021        16\n",
      "2006         7\n",
      "2005         7\n",
      "2005         7\n",
      "2004         6\n",
      "2004         6\n",
      "2002         3\n",
      "2000         3\n",
      "2002         2\n",
      "2003         2\n",
      "1999         2\n",
      "2001         1\n",
      "2000         1\n",
      "1997         1\n",
      "1996         1\n",
      "2001         1\n",
      "IV-2011      1\n",
      "2003         1\n",
      "Name: Year, dtype: int64\n",
      "\n",
      "Driven\n",
      "19,857Km       89\n",
      "20,000Km       71\n",
      "65,000Km       42\n",
      "70,000Km       31\n",
      "55,000Km       31\n",
      "               ..\n",
      "52,110 km       1\n",
      "1,04,453 km     1\n",
      "26,740 km       1\n",
      "73,368 km       1\n",
      "19,867Km        1\n",
      "Name: Driven, Length: 3396, dtype: int64\n",
      "\n",
      "Variant\n",
      "Petrol                                     3202\n",
      "Diesel                                     1187\n",
      " Diesel                                     154\n",
      " Petrol                                     118\n",
      "Petrol + CNG                                109\n",
      "                                           ... \n",
      " 2012                                         1\n",
      "Maruti Suzuki Omni 2011 LPG                   1\n",
      "very good condition car                       1\n",
      "Chevrolet Tavera 2007 in good condition       1\n",
      "Nyc car child Ac new tyre                     1\n",
      "Name: Variant, Length: 208, dtype: int64\n",
      "\n",
      "Price\n",
      "5,00,000       38\n",
      "6,00,000       31\n",
      "4,00,000       23\n",
      "2,50,000       17\n",
      "2,00,000       17\n",
      "               ..\n",
      "₹ 12,39,000     1\n",
      "₹ 5,85,000      1\n",
      "3,97,000        1\n",
      "₹13,06,299      1\n",
      "₹5,33,000       1\n",
      "Name: Price, Length: 3150, dtype: int64\n",
      "\n",
      "Owner\n",
      "1st Owner               2125\n",
      "First Owner             1257\n",
      "2nd Owner                466\n",
      "Second Owner             258\n",
      "3rd Owner                 75\n",
      "Third Owner               46\n",
      "Fourth Owner Or More      22\n",
      "4th Owner                  5\n",
      "Electric                   1\n",
      "Name: Owner, dtype: int64\n",
      "\n",
      "EMI\n",
      "₹5,005     8\n",
      "₹6,673     8\n",
      "₹10,010    7\n",
      "₹5,561     7\n",
      "₹14,459    6\n",
      "          ..\n",
      "₹4,478     1\n",
      "₹25,581    1\n",
      "₹17,173    1\n",
      "₹7,821     1\n",
      "₹7,187     1\n",
      "Name: EMI, Length: 2109, dtype: int64\n",
      "\n",
      "Function\n",
      "Manual                      1244\n",
      "Automatic                    316\n",
      "VXI Manual                   215\n",
      "LXI Manual                   198\n",
      "VDI Manual                   174\n",
      "                            ... \n",
      "TREND 1.5 TDCI MT Manual       1\n",
      "ASTA 1.1 CRDI Manual           1\n",
      "HIGHLINE 1.5 Manual            1\n",
      "W9 Manual                      1\n",
      "S9                             1\n",
      "Name: Function, Length: 621, dtype: int64\n",
      "\n"
     ]
    }
   ],
   "source": [
    "# Finding The Unique Value of the Train_data\n",
    "for each_col in data.columns:\n",
    "    print(each_col)\n",
    "    print(data[each_col].value_counts())\n",
    "    print(\"\")"
   ]
  },
  {
   "cell_type": "markdown",
   "metadata": {},
   "source": [
    "# lets Impute the missing \"Nan\" value"
   ]
  },
  {
   "cell_type": "code",
   "execution_count": 9,
   "metadata": {},
   "outputs": [
    {
     "data": {
      "text/html": [
       "<div>\n",
       "<style scoped>\n",
       "    .dataframe tbody tr th:only-of-type {\n",
       "        vertical-align: middle;\n",
       "    }\n",
       "\n",
       "    .dataframe tbody tr th {\n",
       "        vertical-align: top;\n",
       "    }\n",
       "\n",
       "    .dataframe thead th {\n",
       "        text-align: right;\n",
       "    }\n",
       "</style>\n",
       "<table border=\"1\" class=\"dataframe\">\n",
       "  <thead>\n",
       "    <tr style=\"text-align: right;\">\n",
       "      <th></th>\n",
       "      <th>Model</th>\n",
       "      <th>Location</th>\n",
       "      <th>Year</th>\n",
       "      <th>Driven</th>\n",
       "      <th>Variant</th>\n",
       "      <th>Price</th>\n",
       "      <th>Owner</th>\n",
       "      <th>EMI</th>\n",
       "      <th>Function</th>\n",
       "    </tr>\n",
       "  </thead>\n",
       "  <tbody>\n",
       "    <tr>\n",
       "      <th>0</th>\n",
       "      <td>Skoda Rapid 2011-2013 1.6 MPI Elegance, 2015, ...</td>\n",
       "      <td>HEBBAL, BENGALURU</td>\n",
       "      <td>2015</td>\n",
       "      <td>30,000 km</td>\n",
       "      <td>Petrol</td>\n",
       "      <td>₹ 5,95,000</td>\n",
       "      <td>0</td>\n",
       "      <td>0</td>\n",
       "      <td>0</td>\n",
       "    </tr>\n",
       "    <tr>\n",
       "      <th>1</th>\n",
       "      <td>MG Hector Sharp AT, 2019, Petrol</td>\n",
       "      <td>ERNAKULAM, KOCHI</td>\n",
       "      <td>2019</td>\n",
       "      <td>12,000 km</td>\n",
       "      <td>Petrol</td>\n",
       "      <td>₹ 17,60,000</td>\n",
       "      <td>0</td>\n",
       "      <td>0</td>\n",
       "      <td>0</td>\n",
       "    </tr>\n",
       "    <tr>\n",
       "      <th>2</th>\n",
       "      <td>BMW 5 Series 530d Highline Sedan, 2010, Diesel</td>\n",
       "      <td>MAHADEV VIHAR, DEHRADUN</td>\n",
       "      <td>2010</td>\n",
       "      <td>69,000 km</td>\n",
       "      <td>Diesel</td>\n",
       "      <td>₹ 7,51,000</td>\n",
       "      <td>0</td>\n",
       "      <td>0</td>\n",
       "      <td>0</td>\n",
       "    </tr>\n",
       "    <tr>\n",
       "      <th>3</th>\n",
       "      <td>Mahindra Bolero 2009 slx</td>\n",
       "      <td>VADAVALLI, COIMBATORE</td>\n",
       "      <td>2009</td>\n",
       "      <td>204,700 km</td>\n",
       "      <td>Mahindra Bolero 2009 slx</td>\n",
       "      <td>₹ 5,50,000</td>\n",
       "      <td>0</td>\n",
       "      <td>0</td>\n",
       "      <td>0</td>\n",
       "    </tr>\n",
       "    <tr>\n",
       "      <th>4</th>\n",
       "      <td>Maruti Suzuki Swift 2007 Petrol 92000 Km Driven</td>\n",
       "      <td>VAISHALI, GHAZIABAD</td>\n",
       "      <td>2007</td>\n",
       "      <td>93,000 km</td>\n",
       "      <td>Maruti Suzuki Swift 2007 Petrol 92000 Km Driven</td>\n",
       "      <td>₹ 1,15,000</td>\n",
       "      <td>0</td>\n",
       "      <td>0</td>\n",
       "      <td>0</td>\n",
       "    </tr>\n",
       "    <tr>\n",
       "      <th>...</th>\n",
       "      <td>...</td>\n",
       "      <td>...</td>\n",
       "      <td>...</td>\n",
       "      <td>...</td>\n",
       "      <td>...</td>\n",
       "      <td>...</td>\n",
       "      <td>...</td>\n",
       "      <td>...</td>\n",
       "      <td>...</td>\n",
       "    </tr>\n",
       "    <tr>\n",
       "      <th>1579</th>\n",
       "      <td>Hyundai Grand i10 Asta AT 2015</td>\n",
       "      <td>Mumbai</td>\n",
       "      <td>2015</td>\n",
       "      <td>34,028Km</td>\n",
       "      <td>Petrol</td>\n",
       "      <td>4,60,000</td>\n",
       "      <td>Second Owner</td>\n",
       "      <td>0</td>\n",
       "      <td>Automatic</td>\n",
       "    </tr>\n",
       "    <tr>\n",
       "      <th>1580</th>\n",
       "      <td>Hyundai Grand i10 1.2 Sportz (O) AT 2014</td>\n",
       "      <td>Mumbai</td>\n",
       "      <td>2014</td>\n",
       "      <td>47,000Km</td>\n",
       "      <td>Petrol</td>\n",
       "      <td>4,48,050</td>\n",
       "      <td>First Owner</td>\n",
       "      <td>0</td>\n",
       "      <td>Automatic</td>\n",
       "    </tr>\n",
       "    <tr>\n",
       "      <th>1581</th>\n",
       "      <td>Hyundai Grand i10 Magna CRDi 2014</td>\n",
       "      <td>Lucknow</td>\n",
       "      <td>2014</td>\n",
       "      <td>60,000Km</td>\n",
       "      <td>Petrol</td>\n",
       "      <td>4,65,000</td>\n",
       "      <td>First Owner</td>\n",
       "      <td>0</td>\n",
       "      <td>Manual</td>\n",
       "    </tr>\n",
       "    <tr>\n",
       "      <th>1582</th>\n",
       "      <td>Hyundai Grand i10 Magna 1.2 Kappa VTVT 2014</td>\n",
       "      <td>Guwahati</td>\n",
       "      <td>2014</td>\n",
       "      <td>44,000Km</td>\n",
       "      <td>Petrol</td>\n",
       "      <td>3,72,000</td>\n",
       "      <td>First Owner</td>\n",
       "      <td>0</td>\n",
       "      <td>Manual</td>\n",
       "    </tr>\n",
       "    <tr>\n",
       "      <th>1583</th>\n",
       "      <td>Hyundai Verna 1.6 VTVT SX 2008</td>\n",
       "      <td>Pune</td>\n",
       "      <td>2008</td>\n",
       "      <td>68,000Km</td>\n",
       "      <td>Petrol</td>\n",
       "      <td>2,32,000</td>\n",
       "      <td>Second Owner</td>\n",
       "      <td>0</td>\n",
       "      <td>Manual</td>\n",
       "    </tr>\n",
       "  </tbody>\n",
       "</table>\n",
       "<p>5002 rows × 9 columns</p>\n",
       "</div>"
      ],
      "text/plain": [
       "                                                  Model  \\\n",
       "0     Skoda Rapid 2011-2013 1.6 MPI Elegance, 2015, ...   \n",
       "1                      MG Hector Sharp AT, 2019, Petrol   \n",
       "2        BMW 5 Series 530d Highline Sedan, 2010, Diesel   \n",
       "3                              Mahindra Bolero 2009 slx   \n",
       "4       Maruti Suzuki Swift 2007 Petrol 92000 Km Driven   \n",
       "...                                                 ...   \n",
       "1579                     Hyundai Grand i10 Asta AT 2015   \n",
       "1580           Hyundai Grand i10 1.2 Sportz (O) AT 2014   \n",
       "1581                  Hyundai Grand i10 Magna CRDi 2014   \n",
       "1582        Hyundai Grand i10 Magna 1.2 Kappa VTVT 2014   \n",
       "1583                     Hyundai Verna 1.6 VTVT SX 2008   \n",
       "\n",
       "                     Location   Year       Driven  \\\n",
       "0           HEBBAL, BENGALURU  2015     30,000 km   \n",
       "1            ERNAKULAM, KOCHI  2019     12,000 km   \n",
       "2     MAHADEV VIHAR, DEHRADUN  2010     69,000 km   \n",
       "3       VADAVALLI, COIMBATORE  2009    204,700 km   \n",
       "4         VAISHALI, GHAZIABAD  2007     93,000 km   \n",
       "...                       ...    ...          ...   \n",
       "1579                   Mumbai   2015     34,028Km   \n",
       "1580                   Mumbai   2014     47,000Km   \n",
       "1581                  Lucknow   2014     60,000Km   \n",
       "1582                 Guwahati   2014     44,000Km   \n",
       "1583                     Pune   2008     68,000Km   \n",
       "\n",
       "                                              Variant        Price  \\\n",
       "0                                              Petrol   ₹ 5,95,000   \n",
       "1                                              Petrol  ₹ 17,60,000   \n",
       "2                                              Diesel   ₹ 7,51,000   \n",
       "3                            Mahindra Bolero 2009 slx   ₹ 5,50,000   \n",
       "4     Maruti Suzuki Swift 2007 Petrol 92000 Km Driven   ₹ 1,15,000   \n",
       "...                                               ...          ...   \n",
       "1579                                           Petrol     4,60,000   \n",
       "1580                                           Petrol     4,48,050   \n",
       "1581                                           Petrol     4,65,000   \n",
       "1582                                           Petrol     3,72,000   \n",
       "1583                                           Petrol     2,32,000   \n",
       "\n",
       "             Owner EMI   Function  \n",
       "0                0   0          0  \n",
       "1                0   0          0  \n",
       "2                0   0          0  \n",
       "3                0   0          0  \n",
       "4                0   0          0  \n",
       "...            ...  ..        ...  \n",
       "1579  Second Owner   0  Automatic  \n",
       "1580   First Owner   0  Automatic  \n",
       "1581   First Owner   0     Manual  \n",
       "1582   First Owner   0     Manual  \n",
       "1583  Second Owner   0     Manual  \n",
       "\n",
       "[5002 rows x 9 columns]"
      ]
     },
     "execution_count": 9,
     "metadata": {},
     "output_type": "execute_result"
    }
   ],
   "source": [
    "data.fillna(0)"
   ]
  },
  {
   "cell_type": "markdown",
   "metadata": {},
   "source": [
    "## Lets do some cleaning work:"
   ]
  },
  {
   "cell_type": "code",
   "execution_count": 10,
   "metadata": {},
   "outputs": [],
   "source": [
    "data['Price'] = data['Price'].str.replace('₹', '')\n",
    "data['Price'] = data['Price'].str.replace(',', '')\n",
    "data['Price'] = data['Price'].str.replace('Lakh', '')"
   ]
  },
  {
   "cell_type": "code",
   "execution_count": 11,
   "metadata": {},
   "outputs": [],
   "source": [
    "data['Price'] = data['Price'].astype(float)"
   ]
  },
  {
   "cell_type": "code",
   "execution_count": 12,
   "metadata": {},
   "outputs": [],
   "source": [
    "data['EMI'] = data['EMI'].str.replace('₹', '')\n",
    "data['EMI'] = data['EMI'].str.replace(',', '')"
   ]
  },
  {
   "cell_type": "code",
   "execution_count": 13,
   "metadata": {},
   "outputs": [],
   "source": [
    "data['EMI'] = data['EMI'].astype(float)"
   ]
  },
  {
   "cell_type": "code",
   "execution_count": 14,
   "metadata": {},
   "outputs": [],
   "source": [
    "data['Year'] = data['Year'].str.replace('IV-', '')"
   ]
  },
  {
   "cell_type": "code",
   "execution_count": 15,
   "metadata": {},
   "outputs": [],
   "source": [
    "data['Year'] = data['Year'].astype(float)"
   ]
  },
  {
   "cell_type": "code",
   "execution_count": 16,
   "metadata": {},
   "outputs": [],
   "source": [
    "data['Driven'] = data['Driven'].str.replace('Km', '')\n",
    "data['Driven'] = data['Driven'].str.replace('km', '')\n",
    "data['Driven'] = data['Driven'].str.replace(',', '')"
   ]
  },
  {
   "cell_type": "code",
   "execution_count": 17,
   "metadata": {},
   "outputs": [],
   "source": [
    "data['Driven'] = data['Driven'].astype(float)"
   ]
  },
  {
   "cell_type": "code",
   "execution_count": 18,
   "metadata": {},
   "outputs": [
    {
     "name": "stdout",
     "output_type": "stream",
     "text": [
      "<class 'pandas.core.frame.DataFrame'>\n",
      "Int64Index: 5002 entries, 0 to 1583\n",
      "Data columns (total 9 columns):\n",
      " #   Column    Non-Null Count  Dtype  \n",
      "---  ------    --------------  -----  \n",
      " 0   Model     5002 non-null   object \n",
      " 1   Location  2331 non-null   object \n",
      " 2   Year      5002 non-null   float64\n",
      " 3   Driven    5002 non-null   float64\n",
      " 4   Variant   5002 non-null   object \n",
      " 5   Price     5002 non-null   float64\n",
      " 6   Owner     4255 non-null   object \n",
      " 7   EMI       2671 non-null   float64\n",
      " 8   Function  4255 non-null   object \n",
      "dtypes: float64(4), object(5)\n",
      "memory usage: 390.8+ KB\n"
     ]
    }
   ],
   "source": [
    "data.info()"
   ]
  },
  {
   "cell_type": "code",
   "execution_count": 19,
   "metadata": {},
   "outputs": [],
   "source": [
    "data[\"Current_Year\"]=2021"
   ]
  },
  {
   "cell_type": "code",
   "execution_count": 20,
   "metadata": {},
   "outputs": [
    {
     "data": {
      "text/html": [
       "<div>\n",
       "<style scoped>\n",
       "    .dataframe tbody tr th:only-of-type {\n",
       "        vertical-align: middle;\n",
       "    }\n",
       "\n",
       "    .dataframe tbody tr th {\n",
       "        vertical-align: top;\n",
       "    }\n",
       "\n",
       "    .dataframe thead th {\n",
       "        text-align: right;\n",
       "    }\n",
       "</style>\n",
       "<table border=\"1\" class=\"dataframe\">\n",
       "  <thead>\n",
       "    <tr style=\"text-align: right;\">\n",
       "      <th></th>\n",
       "      <th>Model</th>\n",
       "      <th>Location</th>\n",
       "      <th>Driven</th>\n",
       "      <th>Variant</th>\n",
       "      <th>Price</th>\n",
       "      <th>Owner</th>\n",
       "      <th>EMI</th>\n",
       "      <th>Function</th>\n",
       "      <th>No_of_years</th>\n",
       "    </tr>\n",
       "  </thead>\n",
       "  <tbody>\n",
       "    <tr>\n",
       "      <th>0</th>\n",
       "      <td>Skoda Rapid 2011-2013 1.6 MPI Elegance, 2015, ...</td>\n",
       "      <td>HEBBAL, BENGALURU</td>\n",
       "      <td>30000.0</td>\n",
       "      <td>Petrol</td>\n",
       "      <td>595000.0</td>\n",
       "      <td>NaN</td>\n",
       "      <td>NaN</td>\n",
       "      <td>NaN</td>\n",
       "      <td>6.0</td>\n",
       "    </tr>\n",
       "    <tr>\n",
       "      <th>1</th>\n",
       "      <td>MG Hector Sharp AT, 2019, Petrol</td>\n",
       "      <td>ERNAKULAM, KOCHI</td>\n",
       "      <td>12000.0</td>\n",
       "      <td>Petrol</td>\n",
       "      <td>1760000.0</td>\n",
       "      <td>NaN</td>\n",
       "      <td>NaN</td>\n",
       "      <td>NaN</td>\n",
       "      <td>2.0</td>\n",
       "    </tr>\n",
       "    <tr>\n",
       "      <th>2</th>\n",
       "      <td>BMW 5 Series 530d Highline Sedan, 2010, Diesel</td>\n",
       "      <td>MAHADEV VIHAR, DEHRADUN</td>\n",
       "      <td>69000.0</td>\n",
       "      <td>Diesel</td>\n",
       "      <td>751000.0</td>\n",
       "      <td>NaN</td>\n",
       "      <td>NaN</td>\n",
       "      <td>NaN</td>\n",
       "      <td>11.0</td>\n",
       "    </tr>\n",
       "    <tr>\n",
       "      <th>3</th>\n",
       "      <td>Mahindra Bolero 2009 slx</td>\n",
       "      <td>VADAVALLI, COIMBATORE</td>\n",
       "      <td>204700.0</td>\n",
       "      <td>Mahindra Bolero 2009 slx</td>\n",
       "      <td>550000.0</td>\n",
       "      <td>NaN</td>\n",
       "      <td>NaN</td>\n",
       "      <td>NaN</td>\n",
       "      <td>12.0</td>\n",
       "    </tr>\n",
       "    <tr>\n",
       "      <th>4</th>\n",
       "      <td>Maruti Suzuki Swift 2007 Petrol 92000 Km Driven</td>\n",
       "      <td>VAISHALI, GHAZIABAD</td>\n",
       "      <td>93000.0</td>\n",
       "      <td>Maruti Suzuki Swift 2007 Petrol 92000 Km Driven</td>\n",
       "      <td>115000.0</td>\n",
       "      <td>NaN</td>\n",
       "      <td>NaN</td>\n",
       "      <td>NaN</td>\n",
       "      <td>14.0</td>\n",
       "    </tr>\n",
       "  </tbody>\n",
       "</table>\n",
       "</div>"
      ],
      "text/plain": [
       "                                               Model                 Location  \\\n",
       "0  Skoda Rapid 2011-2013 1.6 MPI Elegance, 2015, ...        HEBBAL, BENGALURU   \n",
       "1                   MG Hector Sharp AT, 2019, Petrol         ERNAKULAM, KOCHI   \n",
       "2     BMW 5 Series 530d Highline Sedan, 2010, Diesel  MAHADEV VIHAR, DEHRADUN   \n",
       "3                           Mahindra Bolero 2009 slx    VADAVALLI, COIMBATORE   \n",
       "4    Maruti Suzuki Swift 2007 Petrol 92000 Km Driven      VAISHALI, GHAZIABAD   \n",
       "\n",
       "     Driven                                          Variant      Price Owner  \\\n",
       "0   30000.0                                           Petrol   595000.0   NaN   \n",
       "1   12000.0                                           Petrol  1760000.0   NaN   \n",
       "2   69000.0                                           Diesel   751000.0   NaN   \n",
       "3  204700.0                         Mahindra Bolero 2009 slx   550000.0   NaN   \n",
       "4   93000.0  Maruti Suzuki Swift 2007 Petrol 92000 Km Driven   115000.0   NaN   \n",
       "\n",
       "   EMI Function  No_of_years  \n",
       "0  NaN      NaN          6.0  \n",
       "1  NaN      NaN          2.0  \n",
       "2  NaN      NaN         11.0  \n",
       "3  NaN      NaN         12.0  \n",
       "4  NaN      NaN         14.0  "
      ]
     },
     "execution_count": 20,
     "metadata": {},
     "output_type": "execute_result"
    }
   ],
   "source": [
    "data[\"No_of_years\"]=data[\"Current_Year\"]-data[\"Year\"]\n",
    "data=data.drop([\"Current_Year\",\"Year\"],axis=1)\n",
    "data.head()"
   ]
  },
  {
   "cell_type": "markdown",
   "metadata": {},
   "source": [
    "# Lets do some Imputing method on a \"object\" variable"
   ]
  },
  {
   "cell_type": "code",
   "execution_count": 21,
   "metadata": {},
   "outputs": [],
   "source": [
    "result=data['Price']/44.95"
   ]
  },
  {
   "cell_type": "code",
   "execution_count": 22,
   "metadata": {},
   "outputs": [],
   "source": [
    "data['EMI']=result"
   ]
  },
  {
   "cell_type": "code",
   "execution_count": 23,
   "metadata": {},
   "outputs": [
    {
     "data": {
      "text/html": [
       "<div>\n",
       "<style scoped>\n",
       "    .dataframe tbody tr th:only-of-type {\n",
       "        vertical-align: middle;\n",
       "    }\n",
       "\n",
       "    .dataframe tbody tr th {\n",
       "        vertical-align: top;\n",
       "    }\n",
       "\n",
       "    .dataframe thead th {\n",
       "        text-align: right;\n",
       "    }\n",
       "</style>\n",
       "<table border=\"1\" class=\"dataframe\">\n",
       "  <thead>\n",
       "    <tr style=\"text-align: right;\">\n",
       "      <th></th>\n",
       "      <th>Model</th>\n",
       "      <th>Location</th>\n",
       "      <th>Driven</th>\n",
       "      <th>Variant</th>\n",
       "      <th>Price</th>\n",
       "      <th>Owner</th>\n",
       "      <th>EMI</th>\n",
       "      <th>Function</th>\n",
       "      <th>No_of_years</th>\n",
       "    </tr>\n",
       "  </thead>\n",
       "  <tbody>\n",
       "    <tr>\n",
       "      <th>0</th>\n",
       "      <td>Skoda Rapid 2011-2013 1.6 MPI Elegance, 2015, ...</td>\n",
       "      <td>HEBBAL, BENGALURU</td>\n",
       "      <td>30000.0</td>\n",
       "      <td>Petrol</td>\n",
       "      <td>595000.0</td>\n",
       "      <td>NaN</td>\n",
       "      <td>13236.929922</td>\n",
       "      <td>NaN</td>\n",
       "      <td>6.0</td>\n",
       "    </tr>\n",
       "    <tr>\n",
       "      <th>1</th>\n",
       "      <td>MG Hector Sharp AT, 2019, Petrol</td>\n",
       "      <td>ERNAKULAM, KOCHI</td>\n",
       "      <td>12000.0</td>\n",
       "      <td>Petrol</td>\n",
       "      <td>1760000.0</td>\n",
       "      <td>NaN</td>\n",
       "      <td>39154.616240</td>\n",
       "      <td>NaN</td>\n",
       "      <td>2.0</td>\n",
       "    </tr>\n",
       "    <tr>\n",
       "      <th>2</th>\n",
       "      <td>BMW 5 Series 530d Highline Sedan, 2010, Diesel</td>\n",
       "      <td>MAHADEV VIHAR, DEHRADUN</td>\n",
       "      <td>69000.0</td>\n",
       "      <td>Diesel</td>\n",
       "      <td>751000.0</td>\n",
       "      <td>NaN</td>\n",
       "      <td>16707.452725</td>\n",
       "      <td>NaN</td>\n",
       "      <td>11.0</td>\n",
       "    </tr>\n",
       "    <tr>\n",
       "      <th>3</th>\n",
       "      <td>Mahindra Bolero 2009 slx</td>\n",
       "      <td>VADAVALLI, COIMBATORE</td>\n",
       "      <td>204700.0</td>\n",
       "      <td>Mahindra Bolero 2009 slx</td>\n",
       "      <td>550000.0</td>\n",
       "      <td>NaN</td>\n",
       "      <td>12235.817575</td>\n",
       "      <td>NaN</td>\n",
       "      <td>12.0</td>\n",
       "    </tr>\n",
       "    <tr>\n",
       "      <th>4</th>\n",
       "      <td>Maruti Suzuki Swift 2007 Petrol 92000 Km Driven</td>\n",
       "      <td>VAISHALI, GHAZIABAD</td>\n",
       "      <td>93000.0</td>\n",
       "      <td>Maruti Suzuki Swift 2007 Petrol 92000 Km Driven</td>\n",
       "      <td>115000.0</td>\n",
       "      <td>NaN</td>\n",
       "      <td>2558.398220</td>\n",
       "      <td>NaN</td>\n",
       "      <td>14.0</td>\n",
       "    </tr>\n",
       "    <tr>\n",
       "      <th>...</th>\n",
       "      <td>...</td>\n",
       "      <td>...</td>\n",
       "      <td>...</td>\n",
       "      <td>...</td>\n",
       "      <td>...</td>\n",
       "      <td>...</td>\n",
       "      <td>...</td>\n",
       "      <td>...</td>\n",
       "      <td>...</td>\n",
       "    </tr>\n",
       "    <tr>\n",
       "      <th>1579</th>\n",
       "      <td>Hyundai Grand i10 Asta AT 2015</td>\n",
       "      <td>Mumbai</td>\n",
       "      <td>34028.0</td>\n",
       "      <td>Petrol</td>\n",
       "      <td>460000.0</td>\n",
       "      <td>Second Owner</td>\n",
       "      <td>10233.592881</td>\n",
       "      <td>Automatic</td>\n",
       "      <td>6.0</td>\n",
       "    </tr>\n",
       "    <tr>\n",
       "      <th>1580</th>\n",
       "      <td>Hyundai Grand i10 1.2 Sportz (O) AT 2014</td>\n",
       "      <td>Mumbai</td>\n",
       "      <td>47000.0</td>\n",
       "      <td>Petrol</td>\n",
       "      <td>448050.0</td>\n",
       "      <td>First Owner</td>\n",
       "      <td>9967.741935</td>\n",
       "      <td>Automatic</td>\n",
       "      <td>7.0</td>\n",
       "    </tr>\n",
       "    <tr>\n",
       "      <th>1581</th>\n",
       "      <td>Hyundai Grand i10 Magna CRDi 2014</td>\n",
       "      <td>Lucknow</td>\n",
       "      <td>60000.0</td>\n",
       "      <td>Petrol</td>\n",
       "      <td>465000.0</td>\n",
       "      <td>First Owner</td>\n",
       "      <td>10344.827586</td>\n",
       "      <td>Manual</td>\n",
       "      <td>7.0</td>\n",
       "    </tr>\n",
       "    <tr>\n",
       "      <th>1582</th>\n",
       "      <td>Hyundai Grand i10 Magna 1.2 Kappa VTVT 2014</td>\n",
       "      <td>Guwahati</td>\n",
       "      <td>44000.0</td>\n",
       "      <td>Petrol</td>\n",
       "      <td>372000.0</td>\n",
       "      <td>First Owner</td>\n",
       "      <td>8275.862069</td>\n",
       "      <td>Manual</td>\n",
       "      <td>7.0</td>\n",
       "    </tr>\n",
       "    <tr>\n",
       "      <th>1583</th>\n",
       "      <td>Hyundai Verna 1.6 VTVT SX 2008</td>\n",
       "      <td>Pune</td>\n",
       "      <td>68000.0</td>\n",
       "      <td>Petrol</td>\n",
       "      <td>232000.0</td>\n",
       "      <td>Second Owner</td>\n",
       "      <td>5161.290323</td>\n",
       "      <td>Manual</td>\n",
       "      <td>13.0</td>\n",
       "    </tr>\n",
       "  </tbody>\n",
       "</table>\n",
       "<p>5002 rows × 9 columns</p>\n",
       "</div>"
      ],
      "text/plain": [
       "                                                  Model  \\\n",
       "0     Skoda Rapid 2011-2013 1.6 MPI Elegance, 2015, ...   \n",
       "1                      MG Hector Sharp AT, 2019, Petrol   \n",
       "2        BMW 5 Series 530d Highline Sedan, 2010, Diesel   \n",
       "3                              Mahindra Bolero 2009 slx   \n",
       "4       Maruti Suzuki Swift 2007 Petrol 92000 Km Driven   \n",
       "...                                                 ...   \n",
       "1579                     Hyundai Grand i10 Asta AT 2015   \n",
       "1580           Hyundai Grand i10 1.2 Sportz (O) AT 2014   \n",
       "1581                  Hyundai Grand i10 Magna CRDi 2014   \n",
       "1582        Hyundai Grand i10 Magna 1.2 Kappa VTVT 2014   \n",
       "1583                     Hyundai Verna 1.6 VTVT SX 2008   \n",
       "\n",
       "                     Location    Driven  \\\n",
       "0           HEBBAL, BENGALURU   30000.0   \n",
       "1            ERNAKULAM, KOCHI   12000.0   \n",
       "2     MAHADEV VIHAR, DEHRADUN   69000.0   \n",
       "3       VADAVALLI, COIMBATORE  204700.0   \n",
       "4         VAISHALI, GHAZIABAD   93000.0   \n",
       "...                       ...       ...   \n",
       "1579                   Mumbai   34028.0   \n",
       "1580                   Mumbai   47000.0   \n",
       "1581                  Lucknow   60000.0   \n",
       "1582                 Guwahati   44000.0   \n",
       "1583                     Pune   68000.0   \n",
       "\n",
       "                                              Variant      Price  \\\n",
       "0                                              Petrol   595000.0   \n",
       "1                                              Petrol  1760000.0   \n",
       "2                                              Diesel   751000.0   \n",
       "3                            Mahindra Bolero 2009 slx   550000.0   \n",
       "4     Maruti Suzuki Swift 2007 Petrol 92000 Km Driven   115000.0   \n",
       "...                                               ...        ...   \n",
       "1579                                           Petrol   460000.0   \n",
       "1580                                           Petrol   448050.0   \n",
       "1581                                           Petrol   465000.0   \n",
       "1582                                           Petrol   372000.0   \n",
       "1583                                           Petrol   232000.0   \n",
       "\n",
       "             Owner           EMI   Function  No_of_years  \n",
       "0              NaN  13236.929922        NaN          6.0  \n",
       "1              NaN  39154.616240        NaN          2.0  \n",
       "2              NaN  16707.452725        NaN         11.0  \n",
       "3              NaN  12235.817575        NaN         12.0  \n",
       "4              NaN   2558.398220        NaN         14.0  \n",
       "...            ...           ...        ...          ...  \n",
       "1579  Second Owner  10233.592881  Automatic          6.0  \n",
       "1580   First Owner   9967.741935  Automatic          7.0  \n",
       "1581   First Owner  10344.827586     Manual          7.0  \n",
       "1582   First Owner   8275.862069     Manual          7.0  \n",
       "1583  Second Owner   5161.290323     Manual         13.0  \n",
       "\n",
       "[5002 rows x 9 columns]"
      ]
     },
     "execution_count": 23,
     "metadata": {},
     "output_type": "execute_result"
    }
   ],
   "source": [
    "data"
   ]
  },
  {
   "cell_type": "code",
   "execution_count": 24,
   "metadata": {},
   "outputs": [],
   "source": [
    "le=preprocessing.LabelEncoder()\n",
    "data['Model']=le.fit_transform(data['Model'])\n",
    "data['Location']=le.fit_transform(data['Location'])\n",
    "data['Owner']=le.fit_transform(data['Owner'])\n",
    "data['Function']=le.fit_transform(data['Function'])\n",
    "data['Variant']=le.fit_transform(data['Variant'])"
   ]
  },
  {
   "cell_type": "code",
   "execution_count": 25,
   "metadata": {},
   "outputs": [],
   "source": [
    "data['Owner'].fillna(data['Owner'].mode(),inplace=True)\n",
    "data['Function'].fillna(data['Function'].mode(),inplace=True)\n",
    "data['Location'].fillna(data['Location'].mode(),inplace=True)\n",
    "data['Variant'].fillna(data['Variant'].mode(),inplace=True)"
   ]
  },
  {
   "cell_type": "code",
   "execution_count": 26,
   "metadata": {},
   "outputs": [
    {
     "name": "stdout",
     "output_type": "stream",
     "text": [
      "<class 'pandas.core.frame.DataFrame'>\n",
      "Int64Index: 5002 entries, 0 to 1583\n",
      "Data columns (total 9 columns):\n",
      " #   Column       Non-Null Count  Dtype  \n",
      "---  ------       --------------  -----  \n",
      " 0   Model        5002 non-null   int32  \n",
      " 1   Location     5002 non-null   int32  \n",
      " 2   Driven       5002 non-null   float64\n",
      " 3   Variant      5002 non-null   int32  \n",
      " 4   Price        5002 non-null   float64\n",
      " 5   Owner        5002 non-null   int32  \n",
      " 6   EMI          5002 non-null   float64\n",
      " 7   Function     5002 non-null   int32  \n",
      " 8   No_of_years  5002 non-null   float64\n",
      "dtypes: float64(4), int32(5)\n",
      "memory usage: 293.1 KB\n"
     ]
    }
   ],
   "source": [
    "data.info()"
   ]
  },
  {
   "cell_type": "code",
   "execution_count": 27,
   "metadata": {},
   "outputs": [
    {
     "data": {
      "text/plain": [
       "Model          0\n",
       "Location       0\n",
       "Driven         0\n",
       "Variant        0\n",
       "Price          0\n",
       "Owner          0\n",
       "EMI            0\n",
       "Function       0\n",
       "No_of_years    0\n",
       "dtype: int64"
      ]
     },
     "execution_count": 27,
     "metadata": {},
     "output_type": "execute_result"
    }
   ],
   "source": [
    "data.isna().sum()"
   ]
  },
  {
   "cell_type": "markdown",
   "metadata": {},
   "source": [
    "# Lets Do Some Visualization"
   ]
  },
  {
   "cell_type": "code",
   "execution_count": 28,
   "metadata": {},
   "outputs": [
    {
     "data": {
      "text/plain": [
       "<AxesSubplot:xlabel='Owner', ylabel='Price'>"
      ]
     },
     "execution_count": 28,
     "metadata": {},
     "output_type": "execute_result"
    },
    {
     "data": {
      "image/png": "[encoded data removed]",
      "text/plain": [
       "<Figure size 432x288 with 1 Axes>"
      ]
     },
     "metadata": {
      "needs_background": "light"
     },
     "output_type": "display_data"
    }
   ],
   "source": [
    "sns.boxplot(x=data['Owner'], y=data['Price'])"
   ]
  },
  {
   "cell_type": "code",
   "execution_count": 29,
   "metadata": {},
   "outputs": [
    {
     "data": {
      "image/png": "[encoded data removed]",
      "text/plain": [
       "<Figure size 432x288 with 1 Axes>"
      ]
     },
     "metadata": {
      "needs_background": "light"
     },
     "output_type": "display_data"
    },
    {
     "data": {
      "image/png": "[encoded data removed]",
      "text/plain": [
       "<Figure size 432x288 with 1 Axes>"
      ]
     },
     "metadata": {
      "needs_background": "light"
     },
     "output_type": "display_data"
    },
    {
     "data": {
      "image/png": "[encoded data removed]",
      "text/plain": [
       "<Figure size 432x288 with 1 Axes>"
      ]
     },
     "metadata": {
      "needs_background": "light"
     },
     "output_type": "display_data"
    },
    {
     "data": {
      "image/png": "[encoded data removed]",
      "text/plain": [
       "<Figure size 432x288 with 1 Axes>"
      ]
     },
     "metadata": {
      "needs_background": "light"
     },
     "output_type": "display_data"
    },
    {
     "data": {
      "image/png": "[encoded data removed]",
      "text/plain": [
       "<Figure size 432x288 with 1 Axes>"
      ]
     },
     "metadata": {
      "needs_background": "light"
     },
     "output_type": "display_data"
    },
    {
     "data": {
      "image/png": "[encoded data removed]",
      "text/plain": [
       "<Figure size 432x288 with 1 Axes>"
      ]
     },
     "metadata": {
      "needs_background": "light"
     },
     "output_type": "display_data"
    },
    {
     "data": {
      "image/png": "[encoded data removed]",
      "text/plain": [
       "<Figure size 432x288 with 1 Axes>"
      ]
     },
     "metadata": {
      "needs_background": "light"
     },
     "output_type": "display_data"
    },
    {
     "data": {
      "image/png": "[encoded data removed]",
      "text/plain": [
       "<Figure size 432x288 with 1 Axes>"
      ]
     },
     "metadata": {
      "needs_background": "light"
     },
     "output_type": "display_data"
    },
    {
     "data": {
      "image/png": "[encoded data removed]",
      "text/plain": [
       "<Figure size 432x288 with 1 Axes>"
      ]
     },
     "metadata": {
      "needs_background": "light"
     },
     "output_type": "display_data"
    }
   ],
   "source": [
    "# Making of distplot to show the skewness in different columns\n",
    "for g in data.describe().columns:\n",
    "    sns.distplot(data[g])\n",
    "    plt.show()"
   ]
  },
  {
   "cell_type": "code",
   "execution_count": 30,
   "metadata": {},
   "outputs": [
    {
     "name": "stdout",
     "output_type": "stream",
     "text": [
      "Skew is: 5.225212587913762\n"
     ]
    },
    {
     "data": {
      "image/png": "[encoded data removed]",
      "text/plain": [
       "<Figure size 432x288 with 1 Axes>"
      ]
     },
     "metadata": {
      "needs_background": "light"
     },
     "output_type": "display_data"
    }
   ],
   "source": [
    "print (\"Skew is:\", data.Price.skew())\n",
    "plt.hist(data.Price, color='blue')\n",
    "plt.show()"
   ]
  },
  {
   "cell_type": "code",
   "execution_count": 34,
   "metadata": {},
   "outputs": [
    {
     "data": {
      "text/plain": [
       "<AxesSubplot:xlabel='Owner'>"
      ]
     },
     "execution_count": 34,
     "metadata": {},
     "output_type": "execute_result"
    },
    {
     "data": {
      "image/png": "[encoded data removed]",
      "text/plain": [
       "<Figure size 432x288 with 1 Axes>"
      ]
     },
     "metadata": {
      "needs_background": "light"
     },
     "output_type": "display_data"
    }
   ],
   "source": [
    "sns.scatterplot(x='Owner', hue='Price', data=data)"
   ]
  },
  {
   "cell_type": "code",
   "execution_count": 35,
   "metadata": {},
   "outputs": [],
   "source": [
    "cols=['Model','Location','Variant','No_of_years','Owner','EMI','Function','Driven','Price']\n",
    "data=data[cols]"
   ]
  },
  {
   "cell_type": "code",
   "execution_count": 36,
   "metadata": {},
   "outputs": [
    {
     "data": {
      "image/png": "[encoded data removed]",
      "text/plain": [
       "<Figure size 1800x1440 with 2 Axes>"
      ]
     },
     "metadata": {
      "needs_background": "light"
     },
     "output_type": "display_data"
    }
   ],
   "source": [
    "plt.figure(figsize=(25, 20))\n",
    "sns.heatmap(data.corr(), annot=True)\n",
    "plt.show()"
   ]
  },
  {
   "cell_type": "raw",
   "metadata": {},
   "source": [
    "Highest correlation with the price is with the \"No_of_years\" that car has been used,\"Location\" ,and the \"Model\""
   ]
  },
  {
   "cell_type": "code",
   "execution_count": 37,
   "metadata": {},
   "outputs": [
    {
     "data": {
      "text/plain": [
       "Model          0.736618\n",
       "Location      -0.590011\n",
       "Variant       -0.811473\n",
       "No_of_years    0.541598\n",
       "Owner          0.503243\n",
       "EMI            5.225213\n",
       "Function      -0.217808\n",
       "Driven         3.035341\n",
       "Price          5.225213\n",
       "dtype: float64"
      ]
     },
     "execution_count": 37,
     "metadata": {},
     "output_type": "execute_result"
    }
   ],
   "source": [
    "data.skew()"
   ]
  },
  {
   "cell_type": "markdown",
   "metadata": {},
   "source": [
    "# There is a skewness in the EMI,Driven and the price"
   ]
  },
  {
   "cell_type": "code",
   "execution_count": 38,
   "metadata": {},
   "outputs": [],
   "source": [
    "#Removing of skewness using Powertransform function.\n",
    "\n",
    "from sklearn.preprocessing import PowerTransformer\n",
    "pt=PowerTransformer(method='yeo-johnson')\n",
    "for i in data.skew().index[1:]:\n",
    "    if data.skew().loc[i]>0.55:\n",
    "        data[i]=pt.fit_transform(data[i].values.reshape(-1,1))\n",
    "    if data.skew().loc[i]<-0.55:\n",
    "        data[i]=pt.fit_transform(data[i].values.reshape(-1,1))\n",
    "    else:\n",
    "        data[i]=data[i]"
   ]
  },
  {
   "cell_type": "code",
   "execution_count": 39,
   "metadata": {},
   "outputs": [
    {
     "data": {
      "text/plain": [
       "Model          0.736618\n",
       "Location      -0.543758\n",
       "Variant       -0.794253\n",
       "No_of_years    0.541598\n",
       "Owner          0.503243\n",
       "EMI            0.222526\n",
       "Function      -0.217808\n",
       "Driven         0.074542\n",
       "Price          0.120289\n",
       "dtype: float64"
      ]
     },
     "execution_count": 39,
     "metadata": {},
     "output_type": "execute_result"
    }
   ],
   "source": [
    "data.skew()"
   ]
  },
  {
   "cell_type": "markdown",
   "metadata": {},
   "source": [
    "# Splitting the data into \"X\" as a feature and \"Y\" as the vector or the target column"
   ]
  },
  {
   "cell_type": "code",
   "execution_count": 40,
   "metadata": {},
   "outputs": [],
   "source": [
    "# Splitting the data into x and y for train test split.\n",
    "\n",
    "X=data.drop(['Price'],axis=1)\n",
    "Y=data['Price']"
   ]
  },
  {
   "cell_type": "markdown",
   "metadata": {},
   "source": [
    "# We will train and test the data using train_test_split"
   ]
  },
  {
   "cell_type": "code",
   "execution_count": 41,
   "metadata": {},
   "outputs": [
    {
     "name": "stdout",
     "output_type": "stream",
     "text": [
      "(4001, 8)\n",
      "(4001,)\n",
      "(1001, 8)\n",
      "(1001,)\n"
     ]
    }
   ],
   "source": [
    "from sklearn.model_selection import train_test_split,cross_val_score\n",
    "X_train,X_test,Y_train,Y_test=train_test_split(X,Y,test_size=0.2,random_state=1)\n",
    "print(X_train.shape)\n",
    "print(Y_train.shape)\n",
    "print(X_test.shape)\n",
    "print(Y_test.shape)"
   ]
  },
  {
   "cell_type": "markdown",
   "metadata": {},
   "source": [
    "# Model Building"
   ]
  },
  {
   "cell_type": "code",
   "execution_count": 42,
   "metadata": {},
   "outputs": [
    {
     "name": "stdout",
     "output_type": "stream",
     "text": [
      "CART 0.9995550695162614 0.0007238248836230695\n",
      "KNN 0.673244662565766 0.0629102610869037\n",
      "RF 0.9998699778323721 0.00016486849026043125\n",
      "XGBOOST 0.9998403650289959 9.84334890437546e-05\n"
     ]
    }
   ],
   "source": [
    "from sklearn.tree import DecisionTreeRegressor\n",
    "from sklearn.neighbors import KNeighborsRegressor\n",
    "from sklearn.ensemble import RandomForestRegressor\n",
    "from xgboost import XGBRegressor\n",
    "from sklearn import model_selection\n",
    "models=[]\n",
    "models.append(('CART', DecisionTreeRegressor()))\n",
    "models.append((\"KNN\",KNeighborsRegressor()))\n",
    "models.append((\"RF\", RandomForestRegressor()))\n",
    "models.append((\"XGBOOST\", XGBRegressor()))\n",
    "names=[]\n",
    "result=[]\n",
    "for name,model in models:\n",
    "    k_fold=model_selection.KFold(n_splits=10,shuffle=True,random_state=7)\n",
    "    score=model_selection.cross_val_score(model,X_train,Y_train,cv=k_fold,scoring=\"r2\")\n",
    "    result.append(score)\n",
    "    names.append(name)\n",
    "    print(name,score.mean(),score.std())\n"
   ]
  },
  {
   "cell_type": "markdown",
   "metadata": {},
   "source": [
    "# let’s understand variation of score for each algorithm by box plot"
   ]
  },
  {
   "cell_type": "code",
   "execution_count": 43,
   "metadata": {},
   "outputs": [
    {
     "data": {
      "image/png": "[encoded data removed]",
      "text/plain": [
       "<Figure size 720x432 with 1 Axes>"
      ]
     },
     "metadata": {
      "needs_background": "light"
     },
     "output_type": "display_data"
    }
   ],
   "source": [
    "fig = plt.figure(figsize=(10,6))\n",
    "plt.boxplot(result,labels=names)\n",
    "plt.title('Algorithm Comparison',fontsize=20)\n",
    "plt.show()"
   ]
  },
  {
   "cell_type": "markdown",
   "metadata": {},
   "source": [
    "# Feature Importance :- checking which all features are important for output features out of all the given features"
   ]
  },
  {
   "cell_type": "code",
   "execution_count": 44,
   "metadata": {},
   "outputs": [
    {
     "data": {
      "image/png": "[encoded data removed]",
      "text/plain": [
       "<Figure size 576x432 with 1 Axes>"
      ]
     },
     "metadata": {
      "needs_background": "light"
     },
     "output_type": "display_data"
    }
   ],
   "source": [
    "plt.figure(figsize=(8,6))\n",
    "model=XGBRegressor()\n",
    "model.fit(X,Y)\n",
    "importance=np.sort(model.feature_importances_)\n",
    "plt.barh(X.columns,importance)\n",
    "plt.show()"
   ]
  },
  {
   "cell_type": "markdown",
   "metadata": {},
   "source": [
    "# Hyper-Parameter Tunning"
   ]
  },
  {
   "cell_type": "code",
   "execution_count": 45,
   "metadata": {},
   "outputs": [
    {
     "data": {
      "text/plain": [
       "RandomizedSearchCV(cv=10,\n",
       "                   estimator=XGBRegressor(base_score=None, booster=None,\n",
       "                                          colsample_bylevel=None,\n",
       "                                          colsample_bynode=None,\n",
       "                                          colsample_bytree=None, gamma=None,\n",
       "                                          gpu_id=None, importance_type='gain',\n",
       "                                          interaction_constraints=None,\n",
       "                                          learning_rate=None,\n",
       "                                          max_delta_step=None, max_depth=None,\n",
       "                                          min_child_weight=None, missing=nan,\n",
       "                                          monotone_constraints=None,\n",
       "                                          n_estimators=100, n_jobs=None,\n",
       "                                          num_parallel_tree=None,\n",
       "                                          random_state=None, reg_alpha=None,\n",
       "                                          reg_lambda=None,\n",
       "                                          scale_pos_weight=None, subsample=None,\n",
       "                                          tree_method=None,\n",
       "                                          validate_parameters=None,\n",
       "                                          verbosity=None),\n",
       "                   n_iter=100,\n",
       "                   param_distributions={'max_depth': range(1, 12),\n",
       "                                        'n_estimators': [100, 120, 130, 140,\n",
       "                                                         150]})"
      ]
     },
     "execution_count": 45,
     "metadata": {},
     "output_type": "execute_result"
    }
   ],
   "source": [
    "param_grid={\"n_estimators\":[100,120,130,140,150],\n",
    "            \"max_depth\":range(1,12)\n",
    "           }\n",
    "from sklearn.model_selection import RandomizedSearchCV\n",
    "xgb=XGBRegressor()\n",
    "random_cv=RandomizedSearchCV(estimator=xgb,param_distributions=param_grid,n_iter=100,cv=10)\n",
    "random_cv.fit(X_train,Y_train)"
   ]
  },
  {
   "cell_type": "markdown",
   "metadata": {},
   "source": [
    "# let’s check the best parameter that would be used for prediction."
   ]
  },
  {
   "cell_type": "code",
   "execution_count": 46,
   "metadata": {},
   "outputs": [
    {
     "data": {
      "text/plain": [
       "{'n_estimators': 150, 'max_depth': 5}"
      ]
     },
     "execution_count": 46,
     "metadata": {},
     "output_type": "execute_result"
    }
   ],
   "source": [
    "random_cv.best_params_"
   ]
  },
  {
   "cell_type": "markdown",
   "metadata": {},
   "source": [
    "# Check train test accuracy of dataset"
   ]
  },
  {
   "cell_type": "code",
   "execution_count": 47,
   "metadata": {},
   "outputs": [
    {
     "name": "stdout",
     "output_type": "stream",
     "text": [
      "Train set accuracy:  0.9999952774691026\n",
      "Test set accuracy :  0.9998904089828219\n"
     ]
    }
   ],
   "source": [
    "from sklearn.metrics import r2_score \n",
    "xgb=XGBRegressor(n_estimators= 150, max_depth=5)\n",
    "xgb.fit(X_train,Y_train)\n",
    "Y_train_predicted=xgb.predict(X_train)\n",
    "Y_test_predicted=xgb.predict(X_test)\n",
    "print(\"Train set accuracy: \",r2_score(Y_train,Y_train_predicted))\n",
    "print(\"Test set accuracy : \",r2_score(Y_test,Y_test_predicted))"
   ]
  },
  {
   "cell_type": "markdown",
   "metadata": {},
   "source": [
    "# Understanding predicted values"
   ]
  },
  {
   "cell_type": "code",
   "execution_count": 48,
   "metadata": {},
   "outputs": [
    {
     "data": {
      "text/html": [
       "<div>\n",
       "<style scoped>\n",
       "    .dataframe tbody tr th:only-of-type {\n",
       "        vertical-align: middle;\n",
       "    }\n",
       "\n",
       "    .dataframe tbody tr th {\n",
       "        vertical-align: top;\n",
       "    }\n",
       "\n",
       "    .dataframe thead th {\n",
       "        text-align: right;\n",
       "    }\n",
       "</style>\n",
       "<table border=\"1\" class=\"dataframe\">\n",
       "  <thead>\n",
       "    <tr style=\"text-align: right;\">\n",
       "      <th></th>\n",
       "      <th>Actual</th>\n",
       "      <th>Predicted</th>\n",
       "    </tr>\n",
       "  </thead>\n",
       "  <tbody>\n",
       "    <tr>\n",
       "      <th>2264</th>\n",
       "      <td>-0.507996</td>\n",
       "      <td>-0.508385</td>\n",
       "    </tr>\n",
       "    <tr>\n",
       "      <th>1350</th>\n",
       "      <td>0.079593</td>\n",
       "      <td>0.078009</td>\n",
       "    </tr>\n",
       "    <tr>\n",
       "      <th>396</th>\n",
       "      <td>1.001516</td>\n",
       "      <td>0.997516</td>\n",
       "    </tr>\n",
       "    <tr>\n",
       "      <th>81</th>\n",
       "      <td>1.586072</td>\n",
       "      <td>1.574159</td>\n",
       "    </tr>\n",
       "    <tr>\n",
       "      <th>2235</th>\n",
       "      <td>-0.610384</td>\n",
       "      <td>-0.609531</td>\n",
       "    </tr>\n",
       "    <tr>\n",
       "      <th>504</th>\n",
       "      <td>-0.130739</td>\n",
       "      <td>-0.132625</td>\n",
       "    </tr>\n",
       "    <tr>\n",
       "      <th>2201</th>\n",
       "      <td>0.038769</td>\n",
       "      <td>0.038988</td>\n",
       "    </tr>\n",
       "    <tr>\n",
       "      <th>679</th>\n",
       "      <td>0.029679</td>\n",
       "      <td>0.027785</td>\n",
       "    </tr>\n",
       "    <tr>\n",
       "      <th>432</th>\n",
       "      <td>-0.098070</td>\n",
       "      <td>-0.099735</td>\n",
       "    </tr>\n",
       "    <tr>\n",
       "      <th>292</th>\n",
       "      <td>-0.618225</td>\n",
       "      <td>-0.613698</td>\n",
       "    </tr>\n",
       "  </tbody>\n",
       "</table>\n",
       "</div>"
      ],
      "text/plain": [
       "        Actual  Predicted\n",
       "2264 -0.507996  -0.508385\n",
       "1350  0.079593   0.078009\n",
       "396   1.001516   0.997516\n",
       "81    1.586072   1.574159\n",
       "2235 -0.610384  -0.609531\n",
       "504  -0.130739  -0.132625\n",
       "2201  0.038769   0.038988\n",
       "679   0.029679   0.027785\n",
       "432  -0.098070  -0.099735\n",
       "292  -0.618225  -0.613698"
      ]
     },
     "execution_count": 48,
     "metadata": {},
     "output_type": "execute_result"
    }
   ],
   "source": [
    "Result=pd.DataFrame({\"Actual\":Y_test,\"Predicted\":Y_test_predicted})\n",
    "Result.head(10)"
   ]
  },
  {
   "cell_type": "markdown",
   "metadata": {},
   "source": [
    "# Saving the Model"
   ]
  },
  {
   "cell_type": "code",
   "execution_count": 49,
   "metadata": {},
   "outputs": [
    {
     "data": {
      "text/plain": [
       "['car_price_prediction.pkl']"
      ]
     },
     "execution_count": 49,
     "metadata": {},
     "output_type": "execute_result"
    }
   ],
   "source": [
    "import joblib\n",
    "joblib.dump(xgb,\"car_price_prediction.pkl\")"
   ]
  },
  {
   "cell_type": "code",
   "execution_count": null,
   "metadata": {},
   "outputs": [],
   "source": []
  }
 ],
 "metadata": {
  "kernelspec": {
   "display_name": "Python 3",
   "language": "python",
   "name": "python3"
  },
  "language_info": {
   "codemirror_mode": {
    "name": "ipython",
    "version": 3
   },
   "file_extension": ".py",
   "mimetype": "text/x-python",
   "name": "python",
   "nbconvert_exporter": "python",
   "pygments_lexer": "ipython3",
   "version": "3.8.5"
  }
 },
 "nbformat": 4,
 "nbformat_minor": 4
}
