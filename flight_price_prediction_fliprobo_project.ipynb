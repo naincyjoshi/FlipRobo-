{
 "cells": [
  {
   "cell_type": "code",
   "execution_count": 4,
   "metadata": {},
   "outputs": [
    {
     "name": "stdout",
     "output_type": "stream",
     "text": [
      "Requirement already satisfied: xlrd in c:\\jpytr notebook\\lib\\site-packages (1.2.0)\n"
     ]
    }
   ],
   "source": [
    "!pip install xlrd"
   ]
  },
  {
   "cell_type": "code",
   "execution_count": 1,
   "metadata": {},
   "outputs": [],
   "source": [
    "import numpy as np # linear algebra\n",
    "import pandas as pd\n",
    "import matplotlib.pyplot as plt\n",
    "import seaborn as sns\n",
    "from scipy.stats import skew\n",
    "%matplotlib inline\n",
    "\n",
    "from sklearn.preprocessing import  StandardScaler\n",
    "from sklearn import preprocessing\n",
    "from sklearn.preprocessing import LabelEncoder\n",
    "from sklearn.linear_model import LinearRegression\n",
    "from sklearn.metrics import r2_score, mean_squared_error,mean_absolute_error\n",
    "\n",
    "# machine learning\n",
    "from sklearn.linear_model import LogisticRegression,LinearRegression,Lasso,Ridge,ElasticNet\n",
    "from sklearn.svm import SVC, LinearSVC,SVR\n",
    "from sklearn.neighbors import KNeighborsRegressor\n",
    "from sklearn.ensemble import RandomForestRegressor,AdaBoostRegressor,GradientBoostingRegressor\n",
    "from sklearn.metrics import r2_score\n",
    "from sklearn.linear_model import SGDRegressor\n",
    "from sklearn.naive_bayes import GaussianNB\n",
    "from sklearn.tree import DecisionTreeRegressor\n",
    "from sklearn.metrics import accuracy_score,classification_report, confusion_matrix\n",
    "\n",
    "import warnings\n",
    "warnings.filterwarnings('ignore')"
   ]
  },
  {
   "cell_type": "code",
   "execution_count": 2,
   "metadata": {},
   "outputs": [],
   "source": [
    "import joblib\n",
    "data=joblib.load(\"flight_price_prediction.xlsx\")"
   ]
  },
  {
   "cell_type": "code",
   "execution_count": 3,
   "metadata": {},
   "outputs": [
    {
     "data": {
      "text/html": [
       "<div>\n",
       "<style scoped>\n",
       "    .dataframe tbody tr th:only-of-type {\n",
       "        vertical-align: middle;\n",
       "    }\n",
       "\n",
       "    .dataframe tbody tr th {\n",
       "        vertical-align: top;\n",
       "    }\n",
       "\n",
       "    .dataframe thead th {\n",
       "        text-align: right;\n",
       "    }\n",
       "</style>\n",
       "<table border=\"1\" class=\"dataframe\">\n",
       "  <thead>\n",
       "    <tr style=\"text-align: right;\">\n",
       "      <th></th>\n",
       "      <th>Departure Time</th>\n",
       "      <th>Arrival Time</th>\n",
       "      <th>Source</th>\n",
       "      <th>Destination</th>\n",
       "      <th>Duration</th>\n",
       "      <th>Stoppage</th>\n",
       "      <th>Flight Name</th>\n",
       "      <th>Price</th>\n",
       "    </tr>\n",
       "  </thead>\n",
       "  <tbody>\n",
       "    <tr>\n",
       "      <th>0</th>\n",
       "      <td>16:05</td>\n",
       "      <td>20:40</td>\n",
       "      <td>New Delhi</td>\n",
       "      <td>Bangalore</td>\n",
       "      <td>4h 35m</td>\n",
       "      <td>1 Stop</td>\n",
       "      <td>Air Asia</td>\n",
       "      <td>7,423</td>\n",
       "    </tr>\n",
       "    <tr>\n",
       "      <th>1</th>\n",
       "      <td>09:25</td>\n",
       "      <td>14:40</td>\n",
       "      <td>New Delhi</td>\n",
       "      <td>Bangalore</td>\n",
       "      <td>5h 15m</td>\n",
       "      <td>1 Stop</td>\n",
       "      <td>Air Asia</td>\n",
       "      <td>7,423</td>\n",
       "    </tr>\n",
       "    <tr>\n",
       "      <th>2</th>\n",
       "      <td>15:25</td>\n",
       "      <td>20:40</td>\n",
       "      <td>New Delhi</td>\n",
       "      <td>Bangalore</td>\n",
       "      <td>5h 15m</td>\n",
       "      <td>1 Stop</td>\n",
       "      <td>Air Asia</td>\n",
       "      <td>7,423</td>\n",
       "    </tr>\n",
       "    <tr>\n",
       "      <th>3</th>\n",
       "      <td>15:40</td>\n",
       "      <td>21:30</td>\n",
       "      <td>New Delhi</td>\n",
       "      <td>Bangalore</td>\n",
       "      <td>5h 50m</td>\n",
       "      <td>1 Stop</td>\n",
       "      <td>Air Asia</td>\n",
       "      <td>7,423</td>\n",
       "    </tr>\n",
       "    <tr>\n",
       "      <th>4</th>\n",
       "      <td>05:00</td>\n",
       "      <td>11:35</td>\n",
       "      <td>New Delhi</td>\n",
       "      <td>Bangalore</td>\n",
       "      <td>6h 35m</td>\n",
       "      <td>1 Stop</td>\n",
       "      <td>Air Asia</td>\n",
       "      <td>7,423</td>\n",
       "    </tr>\n",
       "    <tr>\n",
       "      <th>...</th>\n",
       "      <td>...</td>\n",
       "      <td>...</td>\n",
       "      <td>...</td>\n",
       "      <td>...</td>\n",
       "      <td>...</td>\n",
       "      <td>...</td>\n",
       "      <td>...</td>\n",
       "      <td>...</td>\n",
       "    </tr>\n",
       "    <tr>\n",
       "      <th>59</th>\n",
       "      <td>17:05</td>\n",
       "      <td>17:05</td>\n",
       "      <td>Delhi</td>\n",
       "      <td>Ahmedabad</td>\n",
       "      <td>10h 45m</td>\n",
       "      <td>2+-stop</td>\n",
       "      <td>Air India</td>\n",
       "      <td>17,834</td>\n",
       "    </tr>\n",
       "    <tr>\n",
       "      <th>60</th>\n",
       "      <td>18:00</td>\n",
       "      <td>18:00</td>\n",
       "      <td>Delhi</td>\n",
       "      <td>Ahmedabad</td>\n",
       "      <td>12h 35m</td>\n",
       "      <td>1-stop</td>\n",
       "      <td>Air India</td>\n",
       "      <td>19,763</td>\n",
       "    </tr>\n",
       "    <tr>\n",
       "      <th>61</th>\n",
       "      <td>21:30</td>\n",
       "      <td>21:30</td>\n",
       "      <td>Delhi</td>\n",
       "      <td>Ahmedabad</td>\n",
       "      <td>14h 00m</td>\n",
       "      <td>1-stop</td>\n",
       "      <td>GO FIRST</td>\n",
       "      <td>20,131</td>\n",
       "    </tr>\n",
       "    <tr>\n",
       "      <th>62</th>\n",
       "      <td>18:05</td>\n",
       "      <td>18:05</td>\n",
       "      <td>Delhi</td>\n",
       "      <td>Ahmedabad</td>\n",
       "      <td>07h 35m</td>\n",
       "      <td>2+-stop</td>\n",
       "      <td>Air India</td>\n",
       "      <td>20,259</td>\n",
       "    </tr>\n",
       "    <tr>\n",
       "      <th>63</th>\n",
       "      <td>00:05</td>\n",
       "      <td>00:05</td>\n",
       "      <td>Delhi</td>\n",
       "      <td>Ahmedabad</td>\n",
       "      <td>13h 40m</td>\n",
       "      <td>1-stop</td>\n",
       "      <td>GO FIRST</td>\n",
       "      <td>21,601</td>\n",
       "    </tr>\n",
       "  </tbody>\n",
       "</table>\n",
       "<p>1739 rows × 8 columns</p>\n",
       "</div>"
      ],
      "text/plain": [
       "   Departure Time Arrival Time     Source Destination Duration Stoppage  \\\n",
       "0           16:05        20:40  New Delhi   Bangalore   4h 35m   1 Stop   \n",
       "1           09:25        14:40  New Delhi   Bangalore   5h 15m   1 Stop   \n",
       "2           15:25        20:40  New Delhi   Bangalore   5h 15m   1 Stop   \n",
       "3           15:40        21:30  New Delhi   Bangalore   5h 50m   1 Stop   \n",
       "4           05:00        11:35  New Delhi   Bangalore   6h 35m   1 Stop   \n",
       "..            ...          ...        ...         ...      ...      ...   \n",
       "59          17:05        17:05      Delhi   Ahmedabad  10h 45m  2+-stop   \n",
       "60          18:00        18:00      Delhi   Ahmedabad  12h 35m   1-stop   \n",
       "61          21:30        21:30      Delhi   Ahmedabad  14h 00m   1-stop   \n",
       "62          18:05        18:05      Delhi   Ahmedabad  07h 35m  2+-stop   \n",
       "63          00:05        00:05      Delhi   Ahmedabad  13h 40m   1-stop   \n",
       "\n",
       "   Flight Name   Price  \n",
       "0     Air Asia   7,423  \n",
       "1     Air Asia   7,423  \n",
       "2     Air Asia   7,423  \n",
       "3     Air Asia   7,423  \n",
       "4     Air Asia   7,423  \n",
       "..         ...     ...  \n",
       "59   Air India  17,834  \n",
       "60   Air India  19,763  \n",
       "61    GO FIRST  20,131  \n",
       "62   Air India  20,259  \n",
       "63    GO FIRST  21,601  \n",
       "\n",
       "[1739 rows x 8 columns]"
      ]
     },
     "execution_count": 3,
     "metadata": {},
     "output_type": "execute_result"
    }
   ],
   "source": [
    "data"
   ]
  },
  {
   "cell_type": "markdown",
   "metadata": {},
   "source": [
    "# Checking the datatype of the dataset"
   ]
  },
  {
   "cell_type": "code",
   "execution_count": 4,
   "metadata": {},
   "outputs": [
    {
     "name": "stdout",
     "output_type": "stream",
     "text": [
      "<class 'pandas.core.frame.DataFrame'>\n",
      "Int64Index: 1739 entries, 0 to 63\n",
      "Data columns (total 8 columns):\n",
      " #   Column          Non-Null Count  Dtype \n",
      "---  ------          --------------  ----- \n",
      " 0   Departure Time  1739 non-null   object\n",
      " 1   Arrival Time    1739 non-null   object\n",
      " 2   Source          1739 non-null   object\n",
      " 3   Destination     1739 non-null   object\n",
      " 4   Duration        1739 non-null   object\n",
      " 5   Stoppage        1739 non-null   object\n",
      " 6   Flight Name     1739 non-null   object\n",
      " 7   Price           1739 non-null   object\n",
      "dtypes: object(8)\n",
      "memory usage: 122.3+ KB\n"
     ]
    }
   ],
   "source": [
    "data.info()"
   ]
  },
  {
   "cell_type": "markdown",
   "metadata": {},
   "source": [
    "# Checking the missing value"
   ]
  },
  {
   "cell_type": "code",
   "execution_count": 5,
   "metadata": {},
   "outputs": [
    {
     "data": {
      "text/plain": [
       "Departure Time    0\n",
       "Arrival Time      0\n",
       "Source            0\n",
       "Destination       0\n",
       "Duration          0\n",
       "Stoppage          0\n",
       "Flight Name       0\n",
       "Price             0\n",
       "dtype: int64"
      ]
     },
     "execution_count": 5,
     "metadata": {},
     "output_type": "execute_result"
    }
   ],
   "source": [
    "data.isna().sum()"
   ]
  },
  {
   "cell_type": "markdown",
   "metadata": {},
   "source": [
    "# Providing the summary of the dataset"
   ]
  },
  {
   "cell_type": "code",
   "execution_count": 6,
   "metadata": {},
   "outputs": [
    {
     "data": {
      "text/html": [
       "<div>\n",
       "<style scoped>\n",
       "    .dataframe tbody tr th:only-of-type {\n",
       "        vertical-align: middle;\n",
       "    }\n",
       "\n",
       "    .dataframe tbody tr th {\n",
       "        vertical-align: top;\n",
       "    }\n",
       "\n",
       "    .dataframe thead th {\n",
       "        text-align: right;\n",
       "    }\n",
       "</style>\n",
       "<table border=\"1\" class=\"dataframe\">\n",
       "  <thead>\n",
       "    <tr style=\"text-align: right;\">\n",
       "      <th></th>\n",
       "      <th>Departure Time</th>\n",
       "      <th>Arrival Time</th>\n",
       "      <th>Source</th>\n",
       "      <th>Destination</th>\n",
       "      <th>Duration</th>\n",
       "      <th>Stoppage</th>\n",
       "      <th>Flight Name</th>\n",
       "      <th>Price</th>\n",
       "    </tr>\n",
       "  </thead>\n",
       "  <tbody>\n",
       "    <tr>\n",
       "      <th>count</th>\n",
       "      <td>1739</td>\n",
       "      <td>1739</td>\n",
       "      <td>1739</td>\n",
       "      <td>1739</td>\n",
       "      <td>1739</td>\n",
       "      <td>1739</td>\n",
       "      <td>1739</td>\n",
       "      <td>1739</td>\n",
       "    </tr>\n",
       "    <tr>\n",
       "      <th>unique</th>\n",
       "      <td>237</td>\n",
       "      <td>341</td>\n",
       "      <td>9</td>\n",
       "      <td>13</td>\n",
       "      <td>421</td>\n",
       "      <td>7</td>\n",
       "      <td>9</td>\n",
       "      <td>577</td>\n",
       "    </tr>\n",
       "    <tr>\n",
       "      <th>top</th>\n",
       "      <td>08:00</td>\n",
       "      <td>18:15</td>\n",
       "      <td>New Delhi</td>\n",
       "      <td>Mumbai</td>\n",
       "      <td>02h 10m</td>\n",
       "      <td>1 Stop</td>\n",
       "      <td>Vistara</td>\n",
       "      <td>5,955</td>\n",
       "    </tr>\n",
       "    <tr>\n",
       "      <th>freq</th>\n",
       "      <td>37</td>\n",
       "      <td>26</td>\n",
       "      <td>459</td>\n",
       "      <td>579</td>\n",
       "      <td>24</td>\n",
       "      <td>618</td>\n",
       "      <td>451</td>\n",
       "      <td>85</td>\n",
       "    </tr>\n",
       "  </tbody>\n",
       "</table>\n",
       "</div>"
      ],
      "text/plain": [
       "       Departure Time Arrival Time     Source Destination Duration Stoppage  \\\n",
       "count            1739         1739       1739        1739     1739     1739   \n",
       "unique            237          341          9          13      421        7   \n",
       "top             08:00        18:15  New Delhi      Mumbai  02h 10m   1 Stop   \n",
       "freq               37           26        459         579       24      618   \n",
       "\n",
       "       Flight Name  Price  \n",
       "count         1739   1739  \n",
       "unique           9    577  \n",
       "top        Vistara  5,955  \n",
       "freq           451     85  "
      ]
     },
     "execution_count": 6,
     "metadata": {},
     "output_type": "execute_result"
    }
   ],
   "source": [
    "data.describe()"
   ]
  },
  {
   "cell_type": "markdown",
   "metadata": {},
   "source": [
    "# Finding The Unique Value of the Train_data"
   ]
  },
  {
   "cell_type": "code",
   "execution_count": 7,
   "metadata": {},
   "outputs": [
    {
     "name": "stdout",
     "output_type": "stream",
     "text": [
      "Departure Time\n",
      "08:00    37\n",
      "06:00    34\n",
      "07:00    32\n",
      "13:30    30\n",
      "06:20    29\n",
      "         ..\n",
      "23:25     1\n",
      "20:25     1\n",
      "01:25     1\n",
      "13:45     1\n",
      "10:10     1\n",
      "Name: Departure Time, Length: 237, dtype: int64\n",
      "\n",
      "Arrival Time\n",
      "18:15             26\n",
      "19:35             24\n",
      "19:15             21\n",
      "13:50\\n+ 1 day    18\n",
      "18:15\\n+ 1 day    18\n",
      "                  ..\n",
      "01:35              1\n",
      "10:50              1\n",
      "18:25              1\n",
      "12:20              1\n",
      "03:30              1\n",
      "Name: Arrival Time, Length: 341, dtype: int64\n",
      "\n",
      "Source\n",
      "New Delhi    459\n",
      "Delhi        380\n",
      "Mumbai       379\n",
      "Bangalore    304\n",
      "Jaipur        77\n",
      "Guwahati      58\n",
      "Lucknow       38\n",
      "Chennai       25\n",
      "Pune          19\n",
      "Name: Source, dtype: int64\n",
      "\n",
      "Destination\n",
      "Mumbai        579\n",
      "Kolkata       249\n",
      "Bangalore     168\n",
      "Ahmedabad     130\n",
      "Guwahati      117\n",
      "Chandigarh    100\n",
      "Pune           82\n",
      "Goa            82\n",
      "Kochi          76\n",
      "Patna          68\n",
      "New Delhi      38\n",
      "Hyderabad      25\n",
      "Lucknow        25\n",
      "Name: Destination, dtype: int64\n",
      "\n",
      "Duration\n",
      "02h 10m    24\n",
      "02h 15m    21\n",
      "2h 05m     17\n",
      "01h 40m    17\n",
      "10h 00m    17\n",
      "           ..\n",
      "3h 45m      1\n",
      "17h 20m     1\n",
      "27h 50m     1\n",
      "17h 25m     1\n",
      "22h 00m     1\n",
      "Name: Duration, Length: 421, dtype: int64\n",
      "\n",
      "Stoppage\n",
      "1 Stop       618\n",
      "1-stop       575\n",
      "Non Stop     190\n",
      "non-stop     148\n",
      "2 Stop(s)    123\n",
      "2+-stop       78\n",
      "3 Stop(s)      7\n",
      "Name: Stoppage, dtype: int64\n",
      "\n",
      "Flight Name\n",
      "Vistara      451\n",
      "Air India    341\n",
      "IndiGo       261\n",
      "Indigo       209\n",
      "Go First     156\n",
      "GO FIRST     117\n",
      "SpiceJet      72\n",
      "Air Asia      69\n",
      "AirAsia       63\n",
      "Name: Flight Name, dtype: int64\n",
      "\n",
      "Price\n",
      "5,955     85\n",
      "7,425     63\n",
      "5,954     43\n",
      "10,589    35\n",
      "10,680    32\n",
      "          ..\n",
      "8,883      1\n",
      "10,349     1\n",
      "8,696      1\n",
      "13,498     1\n",
      "13,556     1\n",
      "Name: Price, Length: 577, dtype: int64\n",
      "\n"
     ]
    }
   ],
   "source": [
    "\n",
    "for each_col in data.columns:\n",
    "    print(each_col)\n",
    "    print(data[each_col].value_counts())\n",
    "    print(\"\")"
   ]
  },
  {
   "cell_type": "markdown",
   "metadata": {},
   "source": [
    "# Preprocessing of the dataset"
   ]
  },
  {
   "cell_type": "code",
   "execution_count": 8,
   "metadata": {},
   "outputs": [],
   "source": [
    "# Removing the symbol and comma in the price column\n",
    "data['Price'] = data['Price'].str.replace(',', '')\n",
    "data['Price'] = data['Price'].str.replace('₹', '')"
   ]
  },
  {
   "cell_type": "code",
   "execution_count": 9,
   "metadata": {},
   "outputs": [],
   "source": [
    "# Converting the price column into \"int\"\n",
    "data['Price'] = data['Price'].astype(int)"
   ]
  },
  {
   "cell_type": "code",
   "execution_count": 10,
   "metadata": {},
   "outputs": [
    {
     "name": "stdout",
     "output_type": "stream",
     "text": [
      "<class 'pandas.core.frame.DataFrame'>\n",
      "Int64Index: 1739 entries, 0 to 63\n",
      "Data columns (total 8 columns):\n",
      " #   Column          Non-Null Count  Dtype \n",
      "---  ------          --------------  ----- \n",
      " 0   Departure Time  1739 non-null   object\n",
      " 1   Arrival Time    1739 non-null   object\n",
      " 2   Source          1739 non-null   object\n",
      " 3   Destination     1739 non-null   object\n",
      " 4   Duration        1739 non-null   object\n",
      " 5   Stoppage        1739 non-null   object\n",
      " 6   Flight Name     1739 non-null   object\n",
      " 7   Price           1739 non-null   int32 \n",
      "dtypes: int32(1), object(7)\n",
      "memory usage: 115.5+ KB\n"
     ]
    }
   ],
   "source": [
    "# We have successfully converted into the price into int datatype\n",
    "data.info()"
   ]
  },
  {
   "cell_type": "markdown",
   "metadata": {},
   "source": [
    "# Visualization "
   ]
  },
  {
   "cell_type": "code",
   "execution_count": 11,
   "metadata": {},
   "outputs": [
    {
     "data": {
      "image/png": "[encoded data removed]",
      "text/plain": [
       "<Figure size 1440x432 with 1 Axes>"
      ]
     },
     "metadata": {
      "needs_background": "light"
     },
     "output_type": "display_data"
    }
   ],
   "source": [
    "plt.figure(figsize=(20, 6))\n",
    "sns.barplot(data=data, x = 'Flight Name', y='Price')\n",
    "plt.xticks(rotation=45)\n",
    "plt.show()"
   ]
  },
  {
   "cell_type": "markdown",
   "metadata": {},
   "source": [
    "## Highest price of the airline is of \"Air India\" and \"Vistara\" and the least price od airline is of \"AirAsia\""
   ]
  },
  {
   "cell_type": "code",
   "execution_count": 12,
   "metadata": {},
   "outputs": [
    {
     "data": {
      "text/plain": [
       "[Text(0, 0, 'Air Asia'),\n",
       " Text(1, 0, 'Go First'),\n",
       " Text(2, 0, 'SpiceJet'),\n",
       " Text(3, 0, 'IndiGo'),\n",
       " Text(4, 0, 'Vistara'),\n",
       " Text(5, 0, 'Air India'),\n",
       " Text(6, 0, 'GO FIRST'),\n",
       " Text(7, 0, 'Indigo'),\n",
       " Text(8, 0, 'AirAsia')]"
      ]
     },
     "execution_count": 12,
     "metadata": {},
     "output_type": "execute_result"
    },
    {
     "data": {
      "image/png": "[encoded data removed]",
      "text/plain": [
       "<Figure size 432x288 with 1 Axes>"
      ]
     },
     "metadata": {
      "needs_background": "light"
     },
     "output_type": "display_data"
    }
   ],
   "source": [
    "chart=sns.countplot(x='Flight Name',hue='Stoppage',data=data)\n",
    "chart.set_xticklabels(chart.get_xticklabels(), rotation=90)"
   ]
  },
  {
   "cell_type": "code",
   "execution_count": 13,
   "metadata": {},
   "outputs": [],
   "source": [
    "# As there is same label meaning with different name have to be replaced"
   ]
  },
  {
   "cell_type": "code",
   "execution_count": 14,
   "metadata": {},
   "outputs": [],
   "source": [
    "data['Flight Name']=data['Flight Name'].str.replace('Go First','GO FIRST')\n",
    "data['Flight Name']=data['Flight Name'].str.replace('Air Asia','AirAsia')\n",
    "data['Flight Name']=data['Flight Name'].str.replace('Indigo','IndiGo')"
   ]
  },
  {
   "cell_type": "code",
   "execution_count": 15,
   "metadata": {},
   "outputs": [],
   "source": [
    "data['Stoppage']=data['Stoppage'].str.replace('1-stop','1 Stop')\n",
    "data['Stoppage']=data['Stoppage'].str.replace('non-stop','Non Stop')"
   ]
  },
  {
   "cell_type": "code",
   "execution_count": 16,
   "metadata": {},
   "outputs": [
    {
     "data": {
      "text/plain": [
       "[Text(0, 0, 'AirAsia'),\n",
       " Text(1, 0, 'GO FIRST'),\n",
       " Text(2, 0, 'SpiceJet'),\n",
       " Text(3, 0, 'IndiGo'),\n",
       " Text(4, 0, 'Vistara'),\n",
       " Text(5, 0, 'Air India')]"
      ]
     },
     "execution_count": 16,
     "metadata": {},
     "output_type": "execute_result"
    },
    {
     "data": {
      "image/png": "[encoded data removed]",
      "text/plain": [
       "<Figure size 432x288 with 1 Axes>"
      ]
     },
     "metadata": {
      "needs_background": "light"
     },
     "output_type": "display_data"
    }
   ],
   "source": [
    "chart=sns.countplot(x='Flight Name',hue='Stoppage',data=data)\n",
    "chart.set_xticklabels(chart.get_xticklabels(), rotation=90)"
   ]
  },
  {
   "cell_type": "markdown",
   "metadata": {},
   "source": [
    "# More number of 1 stop with most of the Airlines and every airline also has non-stop flight.\"IndiGo\" has the highest no of non-stop and 1-stop flights"
   ]
  },
  {
   "cell_type": "code",
   "execution_count": 17,
   "metadata": {},
   "outputs": [
    {
     "data": {
      "image/png": "[encoded data removed]",
      "text/plain": [
       "<Figure size 1440x432 with 1 Axes>"
      ]
     },
     "metadata": {
      "needs_background": "light"
     },
     "output_type": "display_data"
    }
   ],
   "source": [
    "plt.figure(figsize=(20, 6))\n",
    "sns.barplot(data=data, x = 'Stoppage', y='Price')\n",
    "plt.xticks(rotation=45)\n",
    "plt.show()"
   ]
  },
  {
   "cell_type": "markdown",
   "metadata": {},
   "source": [
    "# As the stoppage increases,price also increases.It means stoppage is directly proportional to the prices"
   ]
  },
  {
   "cell_type": "code",
   "execution_count": 18,
   "metadata": {},
   "outputs": [
    {
     "data": {
      "image/png": "[encoded data removed]",
      "text/plain": [
       "<Figure size 1440x432 with 1 Axes>"
      ]
     },
     "metadata": {
      "needs_background": "light"
     },
     "output_type": "display_data"
    }
   ],
   "source": [
    "plt.figure(figsize=(20, 6))\n",
    "sns.barplot(data=data, x = 'Destination', y='Price')\n",
    "plt.xticks(rotation=45)\n",
    "plt.show()"
   ]
  },
  {
   "cell_type": "markdown",
   "metadata": {},
   "source": [
    "# The highest price of the destination is of 'Patna' and least of 'Hyderabad'"
   ]
  },
  {
   "cell_type": "code",
   "execution_count": 19,
   "metadata": {},
   "outputs": [
    {
     "data": {
      "text/html": [
       "<div>\n",
       "<style scoped>\n",
       "    .dataframe tbody tr th:only-of-type {\n",
       "        vertical-align: middle;\n",
       "    }\n",
       "\n",
       "    .dataframe tbody tr th {\n",
       "        vertical-align: top;\n",
       "    }\n",
       "\n",
       "    .dataframe thead th {\n",
       "        text-align: right;\n",
       "    }\n",
       "</style>\n",
       "<table border=\"1\" class=\"dataframe\">\n",
       "  <thead>\n",
       "    <tr style=\"text-align: right;\">\n",
       "      <th></th>\n",
       "      <th>Departure Time</th>\n",
       "      <th>Arrival Time</th>\n",
       "      <th>Source</th>\n",
       "      <th>Destination</th>\n",
       "      <th>Duration</th>\n",
       "      <th>Stoppage</th>\n",
       "      <th>Flight Name</th>\n",
       "      <th>Price</th>\n",
       "    </tr>\n",
       "  </thead>\n",
       "  <tbody>\n",
       "    <tr>\n",
       "      <th>0</th>\n",
       "      <td>16:05</td>\n",
       "      <td>20:40</td>\n",
       "      <td>New Delhi</td>\n",
       "      <td>Bangalore</td>\n",
       "      <td>4h 35m</td>\n",
       "      <td>1 Stop</td>\n",
       "      <td>AirAsia</td>\n",
       "      <td>7423</td>\n",
       "    </tr>\n",
       "    <tr>\n",
       "      <th>1</th>\n",
       "      <td>09:25</td>\n",
       "      <td>14:40</td>\n",
       "      <td>New Delhi</td>\n",
       "      <td>Bangalore</td>\n",
       "      <td>5h 15m</td>\n",
       "      <td>1 Stop</td>\n",
       "      <td>AirAsia</td>\n",
       "      <td>7423</td>\n",
       "    </tr>\n",
       "    <tr>\n",
       "      <th>2</th>\n",
       "      <td>15:25</td>\n",
       "      <td>20:40</td>\n",
       "      <td>New Delhi</td>\n",
       "      <td>Bangalore</td>\n",
       "      <td>5h 15m</td>\n",
       "      <td>1 Stop</td>\n",
       "      <td>AirAsia</td>\n",
       "      <td>7423</td>\n",
       "    </tr>\n",
       "    <tr>\n",
       "      <th>3</th>\n",
       "      <td>15:40</td>\n",
       "      <td>21:30</td>\n",
       "      <td>New Delhi</td>\n",
       "      <td>Bangalore</td>\n",
       "      <td>5h 50m</td>\n",
       "      <td>1 Stop</td>\n",
       "      <td>AirAsia</td>\n",
       "      <td>7423</td>\n",
       "    </tr>\n",
       "    <tr>\n",
       "      <th>4</th>\n",
       "      <td>05:00</td>\n",
       "      <td>11:35</td>\n",
       "      <td>New Delhi</td>\n",
       "      <td>Bangalore</td>\n",
       "      <td>6h 35m</td>\n",
       "      <td>1 Stop</td>\n",
       "      <td>AirAsia</td>\n",
       "      <td>7423</td>\n",
       "    </tr>\n",
       "    <tr>\n",
       "      <th>...</th>\n",
       "      <td>...</td>\n",
       "      <td>...</td>\n",
       "      <td>...</td>\n",
       "      <td>...</td>\n",
       "      <td>...</td>\n",
       "      <td>...</td>\n",
       "      <td>...</td>\n",
       "      <td>...</td>\n",
       "    </tr>\n",
       "    <tr>\n",
       "      <th>59</th>\n",
       "      <td>17:05</td>\n",
       "      <td>17:05</td>\n",
       "      <td>Delhi</td>\n",
       "      <td>Ahmedabad</td>\n",
       "      <td>10h 45m</td>\n",
       "      <td>2+-stop</td>\n",
       "      <td>Air India</td>\n",
       "      <td>17834</td>\n",
       "    </tr>\n",
       "    <tr>\n",
       "      <th>60</th>\n",
       "      <td>18:00</td>\n",
       "      <td>18:00</td>\n",
       "      <td>Delhi</td>\n",
       "      <td>Ahmedabad</td>\n",
       "      <td>12h 35m</td>\n",
       "      <td>1 Stop</td>\n",
       "      <td>Air India</td>\n",
       "      <td>19763</td>\n",
       "    </tr>\n",
       "    <tr>\n",
       "      <th>61</th>\n",
       "      <td>21:30</td>\n",
       "      <td>21:30</td>\n",
       "      <td>Delhi</td>\n",
       "      <td>Ahmedabad</td>\n",
       "      <td>14h 00m</td>\n",
       "      <td>1 Stop</td>\n",
       "      <td>GO FIRST</td>\n",
       "      <td>20131</td>\n",
       "    </tr>\n",
       "    <tr>\n",
       "      <th>62</th>\n",
       "      <td>18:05</td>\n",
       "      <td>18:05</td>\n",
       "      <td>Delhi</td>\n",
       "      <td>Ahmedabad</td>\n",
       "      <td>07h 35m</td>\n",
       "      <td>2+-stop</td>\n",
       "      <td>Air India</td>\n",
       "      <td>20259</td>\n",
       "    </tr>\n",
       "    <tr>\n",
       "      <th>63</th>\n",
       "      <td>00:05</td>\n",
       "      <td>00:05</td>\n",
       "      <td>Delhi</td>\n",
       "      <td>Ahmedabad</td>\n",
       "      <td>13h 40m</td>\n",
       "      <td>1 Stop</td>\n",
       "      <td>GO FIRST</td>\n",
       "      <td>21601</td>\n",
       "    </tr>\n",
       "  </tbody>\n",
       "</table>\n",
       "<p>1739 rows × 8 columns</p>\n",
       "</div>"
      ],
      "text/plain": [
       "   Departure Time Arrival Time     Source Destination Duration Stoppage  \\\n",
       "0           16:05        20:40  New Delhi   Bangalore   4h 35m   1 Stop   \n",
       "1           09:25        14:40  New Delhi   Bangalore   5h 15m   1 Stop   \n",
       "2           15:25        20:40  New Delhi   Bangalore   5h 15m   1 Stop   \n",
       "3           15:40        21:30  New Delhi   Bangalore   5h 50m   1 Stop   \n",
       "4           05:00        11:35  New Delhi   Bangalore   6h 35m   1 Stop   \n",
       "..            ...          ...        ...         ...      ...      ...   \n",
       "59          17:05        17:05      Delhi   Ahmedabad  10h 45m  2+-stop   \n",
       "60          18:00        18:00      Delhi   Ahmedabad  12h 35m   1 Stop   \n",
       "61          21:30        21:30      Delhi   Ahmedabad  14h 00m   1 Stop   \n",
       "62          18:05        18:05      Delhi   Ahmedabad  07h 35m  2+-stop   \n",
       "63          00:05        00:05      Delhi   Ahmedabad  13h 40m   1 Stop   \n",
       "\n",
       "   Flight Name  Price  \n",
       "0      AirAsia   7423  \n",
       "1      AirAsia   7423  \n",
       "2      AirAsia   7423  \n",
       "3      AirAsia   7423  \n",
       "4      AirAsia   7423  \n",
       "..         ...    ...  \n",
       "59   Air India  17834  \n",
       "60   Air India  19763  \n",
       "61    GO FIRST  20131  \n",
       "62   Air India  20259  \n",
       "63    GO FIRST  21601  \n",
       "\n",
       "[1739 rows x 8 columns]"
      ]
     },
     "execution_count": 19,
     "metadata": {},
     "output_type": "execute_result"
    }
   ],
   "source": [
    "data"
   ]
  },
  {
   "cell_type": "code",
   "execution_count": 20,
   "metadata": {},
   "outputs": [
    {
     "data": {
      "text/plain": [
       "New Delhi    459\n",
       "Delhi        380\n",
       "Mumbai       379\n",
       "Bangalore    304\n",
       "Jaipur        77\n",
       "Guwahati      58\n",
       "Lucknow       38\n",
       "Chennai       25\n",
       "Pune          19\n",
       "Name: Source, dtype: int64"
      ]
     },
     "execution_count": 20,
     "metadata": {},
     "output_type": "execute_result"
    }
   ],
   "source": [
    "data['Source'].value_counts()"
   ]
  },
  {
   "cell_type": "markdown",
   "metadata": {},
   "source": [
    "## New Delhi and the Delhi are the same, so we will be replacing New Delhi with  Delhi"
   ]
  },
  {
   "cell_type": "code",
   "execution_count": 21,
   "metadata": {},
   "outputs": [],
   "source": [
    "data['Source']=data['Source'].str.replace('New Delhi',' Delhi')"
   ]
  },
  {
   "cell_type": "code",
   "execution_count": 22,
   "metadata": {},
   "outputs": [
    {
     "data": {
      "image/png": "[encoded data removed]",
      "text/plain": [
       "<Figure size 1440x432 with 1 Axes>"
      ]
     },
     "metadata": {
      "needs_background": "light"
     },
     "output_type": "display_data"
    }
   ],
   "source": [
    "plt.figure(figsize=(20, 6))\n",
    "sns.barplot(data=data, x = 'Source', y='Price')\n",
    "plt.xticks(rotation=45)\n",
    "plt.show()"
   ]
  },
  {
   "cell_type": "markdown",
   "metadata": {},
   "source": [
    "# The highest price of the source is from 'Pune','Jaipur','Mumbai' and the least price is from 'Chennai'"
   ]
  },
  {
   "cell_type": "code",
   "execution_count": 23,
   "metadata": {},
   "outputs": [
    {
     "data": {
      "text/html": [
       "<div>\n",
       "<style scoped>\n",
       "    .dataframe tbody tr th:only-of-type {\n",
       "        vertical-align: middle;\n",
       "    }\n",
       "\n",
       "    .dataframe tbody tr th {\n",
       "        vertical-align: top;\n",
       "    }\n",
       "\n",
       "    .dataframe thead th {\n",
       "        text-align: right;\n",
       "    }\n",
       "</style>\n",
       "<table border=\"1\" class=\"dataframe\">\n",
       "  <thead>\n",
       "    <tr style=\"text-align: right;\">\n",
       "      <th></th>\n",
       "      <th>Departure Time</th>\n",
       "      <th>Arrival Time</th>\n",
       "      <th>Source</th>\n",
       "      <th>Destination</th>\n",
       "      <th>Duration</th>\n",
       "      <th>Stoppage</th>\n",
       "      <th>Flight Name</th>\n",
       "      <th>Price</th>\n",
       "    </tr>\n",
       "  </thead>\n",
       "  <tbody>\n",
       "    <tr>\n",
       "      <th>0</th>\n",
       "      <td>16:05</td>\n",
       "      <td>20:40</td>\n",
       "      <td>Delhi</td>\n",
       "      <td>Bangalore</td>\n",
       "      <td>4h 35m</td>\n",
       "      <td>1 Stop</td>\n",
       "      <td>AirAsia</td>\n",
       "      <td>7423</td>\n",
       "    </tr>\n",
       "    <tr>\n",
       "      <th>1</th>\n",
       "      <td>09:25</td>\n",
       "      <td>14:40</td>\n",
       "      <td>Delhi</td>\n",
       "      <td>Bangalore</td>\n",
       "      <td>5h 15m</td>\n",
       "      <td>1 Stop</td>\n",
       "      <td>AirAsia</td>\n",
       "      <td>7423</td>\n",
       "    </tr>\n",
       "    <tr>\n",
       "      <th>2</th>\n",
       "      <td>15:25</td>\n",
       "      <td>20:40</td>\n",
       "      <td>Delhi</td>\n",
       "      <td>Bangalore</td>\n",
       "      <td>5h 15m</td>\n",
       "      <td>1 Stop</td>\n",
       "      <td>AirAsia</td>\n",
       "      <td>7423</td>\n",
       "    </tr>\n",
       "    <tr>\n",
       "      <th>3</th>\n",
       "      <td>15:40</td>\n",
       "      <td>21:30</td>\n",
       "      <td>Delhi</td>\n",
       "      <td>Bangalore</td>\n",
       "      <td>5h 50m</td>\n",
       "      <td>1 Stop</td>\n",
       "      <td>AirAsia</td>\n",
       "      <td>7423</td>\n",
       "    </tr>\n",
       "    <tr>\n",
       "      <th>4</th>\n",
       "      <td>05:00</td>\n",
       "      <td>11:35</td>\n",
       "      <td>Delhi</td>\n",
       "      <td>Bangalore</td>\n",
       "      <td>6h 35m</td>\n",
       "      <td>1 Stop</td>\n",
       "      <td>AirAsia</td>\n",
       "      <td>7423</td>\n",
       "    </tr>\n",
       "    <tr>\n",
       "      <th>...</th>\n",
       "      <td>...</td>\n",
       "      <td>...</td>\n",
       "      <td>...</td>\n",
       "      <td>...</td>\n",
       "      <td>...</td>\n",
       "      <td>...</td>\n",
       "      <td>...</td>\n",
       "      <td>...</td>\n",
       "    </tr>\n",
       "    <tr>\n",
       "      <th>59</th>\n",
       "      <td>17:05</td>\n",
       "      <td>17:05</td>\n",
       "      <td>Delhi</td>\n",
       "      <td>Ahmedabad</td>\n",
       "      <td>10h 45m</td>\n",
       "      <td>2+-stop</td>\n",
       "      <td>Air India</td>\n",
       "      <td>17834</td>\n",
       "    </tr>\n",
       "    <tr>\n",
       "      <th>60</th>\n",
       "      <td>18:00</td>\n",
       "      <td>18:00</td>\n",
       "      <td>Delhi</td>\n",
       "      <td>Ahmedabad</td>\n",
       "      <td>12h 35m</td>\n",
       "      <td>1 Stop</td>\n",
       "      <td>Air India</td>\n",
       "      <td>19763</td>\n",
       "    </tr>\n",
       "    <tr>\n",
       "      <th>61</th>\n",
       "      <td>21:30</td>\n",
       "      <td>21:30</td>\n",
       "      <td>Delhi</td>\n",
       "      <td>Ahmedabad</td>\n",
       "      <td>14h 00m</td>\n",
       "      <td>1 Stop</td>\n",
       "      <td>GO FIRST</td>\n",
       "      <td>20131</td>\n",
       "    </tr>\n",
       "    <tr>\n",
       "      <th>62</th>\n",
       "      <td>18:05</td>\n",
       "      <td>18:05</td>\n",
       "      <td>Delhi</td>\n",
       "      <td>Ahmedabad</td>\n",
       "      <td>07h 35m</td>\n",
       "      <td>2+-stop</td>\n",
       "      <td>Air India</td>\n",
       "      <td>20259</td>\n",
       "    </tr>\n",
       "    <tr>\n",
       "      <th>63</th>\n",
       "      <td>00:05</td>\n",
       "      <td>00:05</td>\n",
       "      <td>Delhi</td>\n",
       "      <td>Ahmedabad</td>\n",
       "      <td>13h 40m</td>\n",
       "      <td>1 Stop</td>\n",
       "      <td>GO FIRST</td>\n",
       "      <td>21601</td>\n",
       "    </tr>\n",
       "  </tbody>\n",
       "</table>\n",
       "<p>1739 rows × 8 columns</p>\n",
       "</div>"
      ],
      "text/plain": [
       "   Departure Time Arrival Time  Source Destination Duration Stoppage  \\\n",
       "0           16:05        20:40   Delhi   Bangalore   4h 35m   1 Stop   \n",
       "1           09:25        14:40   Delhi   Bangalore   5h 15m   1 Stop   \n",
       "2           15:25        20:40   Delhi   Bangalore   5h 15m   1 Stop   \n",
       "3           15:40        21:30   Delhi   Bangalore   5h 50m   1 Stop   \n",
       "4           05:00        11:35   Delhi   Bangalore   6h 35m   1 Stop   \n",
       "..            ...          ...     ...         ...      ...      ...   \n",
       "59          17:05        17:05   Delhi   Ahmedabad  10h 45m  2+-stop   \n",
       "60          18:00        18:00   Delhi   Ahmedabad  12h 35m   1 Stop   \n",
       "61          21:30        21:30   Delhi   Ahmedabad  14h 00m   1 Stop   \n",
       "62          18:05        18:05   Delhi   Ahmedabad  07h 35m  2+-stop   \n",
       "63          00:05        00:05   Delhi   Ahmedabad  13h 40m   1 Stop   \n",
       "\n",
       "   Flight Name  Price  \n",
       "0      AirAsia   7423  \n",
       "1      AirAsia   7423  \n",
       "2      AirAsia   7423  \n",
       "3      AirAsia   7423  \n",
       "4      AirAsia   7423  \n",
       "..         ...    ...  \n",
       "59   Air India  17834  \n",
       "60   Air India  19763  \n",
       "61    GO FIRST  20131  \n",
       "62   Air India  20259  \n",
       "63    GO FIRST  21601  \n",
       "\n",
       "[1739 rows x 8 columns]"
      ]
     },
     "execution_count": 23,
     "metadata": {},
     "output_type": "execute_result"
    }
   ],
   "source": [
    "data"
   ]
  },
  {
   "cell_type": "code",
   "execution_count": 24,
   "metadata": {},
   "outputs": [],
   "source": [
    "def get_duration(x):\n",
    "    x=x.split(' ')\n",
    "    hours=0\n",
    "    mins=0\n",
    "    if len(x)==1:\n",
    "        x=x[0]\n",
    "        if x[-1]=='h':\n",
    "            hours=int(x[:-1])\n",
    "        else:\n",
    "            mins=int(x[:-1])\n",
    "    else:\n",
    "        hours=int(x[0][:-1])\n",
    "        mins=int(x[1][:-1])\n",
    "    return hours,mins\n",
    "data['Duration_hours']=data.Duration.apply(lambda x:get_duration(x)[0])\n",
    "data['Duration_mins']=data.Duration.apply(lambda x:get_duration(x)[1])\n",
    "data.drop([\"Duration\"], axis = 1, inplace = True)"
   ]
  },
  {
   "cell_type": "code",
   "execution_count": 25,
   "metadata": {},
   "outputs": [
    {
     "data": {
      "text/html": [
       "<div>\n",
       "<style scoped>\n",
       "    .dataframe tbody tr th:only-of-type {\n",
       "        vertical-align: middle;\n",
       "    }\n",
       "\n",
       "    .dataframe tbody tr th {\n",
       "        vertical-align: top;\n",
       "    }\n",
       "\n",
       "    .dataframe thead th {\n",
       "        text-align: right;\n",
       "    }\n",
       "</style>\n",
       "<table border=\"1\" class=\"dataframe\">\n",
       "  <thead>\n",
       "    <tr style=\"text-align: right;\">\n",
       "      <th></th>\n",
       "      <th>Departure Time</th>\n",
       "      <th>Arrival Time</th>\n",
       "      <th>Source</th>\n",
       "      <th>Destination</th>\n",
       "      <th>Stoppage</th>\n",
       "      <th>Flight Name</th>\n",
       "      <th>Price</th>\n",
       "      <th>Duration_hours</th>\n",
       "      <th>Duration_mins</th>\n",
       "    </tr>\n",
       "  </thead>\n",
       "  <tbody>\n",
       "    <tr>\n",
       "      <th>0</th>\n",
       "      <td>16:05</td>\n",
       "      <td>20:40</td>\n",
       "      <td>Delhi</td>\n",
       "      <td>Bangalore</td>\n",
       "      <td>1 Stop</td>\n",
       "      <td>AirAsia</td>\n",
       "      <td>7423</td>\n",
       "      <td>4</td>\n",
       "      <td>35</td>\n",
       "    </tr>\n",
       "    <tr>\n",
       "      <th>1</th>\n",
       "      <td>09:25</td>\n",
       "      <td>14:40</td>\n",
       "      <td>Delhi</td>\n",
       "      <td>Bangalore</td>\n",
       "      <td>1 Stop</td>\n",
       "      <td>AirAsia</td>\n",
       "      <td>7423</td>\n",
       "      <td>5</td>\n",
       "      <td>15</td>\n",
       "    </tr>\n",
       "    <tr>\n",
       "      <th>2</th>\n",
       "      <td>15:25</td>\n",
       "      <td>20:40</td>\n",
       "      <td>Delhi</td>\n",
       "      <td>Bangalore</td>\n",
       "      <td>1 Stop</td>\n",
       "      <td>AirAsia</td>\n",
       "      <td>7423</td>\n",
       "      <td>5</td>\n",
       "      <td>15</td>\n",
       "    </tr>\n",
       "    <tr>\n",
       "      <th>3</th>\n",
       "      <td>15:40</td>\n",
       "      <td>21:30</td>\n",
       "      <td>Delhi</td>\n",
       "      <td>Bangalore</td>\n",
       "      <td>1 Stop</td>\n",
       "      <td>AirAsia</td>\n",
       "      <td>7423</td>\n",
       "      <td>5</td>\n",
       "      <td>50</td>\n",
       "    </tr>\n",
       "    <tr>\n",
       "      <th>4</th>\n",
       "      <td>05:00</td>\n",
       "      <td>11:35</td>\n",
       "      <td>Delhi</td>\n",
       "      <td>Bangalore</td>\n",
       "      <td>1 Stop</td>\n",
       "      <td>AirAsia</td>\n",
       "      <td>7423</td>\n",
       "      <td>6</td>\n",
       "      <td>35</td>\n",
       "    </tr>\n",
       "    <tr>\n",
       "      <th>...</th>\n",
       "      <td>...</td>\n",
       "      <td>...</td>\n",
       "      <td>...</td>\n",
       "      <td>...</td>\n",
       "      <td>...</td>\n",
       "      <td>...</td>\n",
       "      <td>...</td>\n",
       "      <td>...</td>\n",
       "      <td>...</td>\n",
       "    </tr>\n",
       "    <tr>\n",
       "      <th>59</th>\n",
       "      <td>17:05</td>\n",
       "      <td>17:05</td>\n",
       "      <td>Delhi</td>\n",
       "      <td>Ahmedabad</td>\n",
       "      <td>2+-stop</td>\n",
       "      <td>Air India</td>\n",
       "      <td>17834</td>\n",
       "      <td>10</td>\n",
       "      <td>45</td>\n",
       "    </tr>\n",
       "    <tr>\n",
       "      <th>60</th>\n",
       "      <td>18:00</td>\n",
       "      <td>18:00</td>\n",
       "      <td>Delhi</td>\n",
       "      <td>Ahmedabad</td>\n",
       "      <td>1 Stop</td>\n",
       "      <td>Air India</td>\n",
       "      <td>19763</td>\n",
       "      <td>12</td>\n",
       "      <td>35</td>\n",
       "    </tr>\n",
       "    <tr>\n",
       "      <th>61</th>\n",
       "      <td>21:30</td>\n",
       "      <td>21:30</td>\n",
       "      <td>Delhi</td>\n",
       "      <td>Ahmedabad</td>\n",
       "      <td>1 Stop</td>\n",
       "      <td>GO FIRST</td>\n",
       "      <td>20131</td>\n",
       "      <td>14</td>\n",
       "      <td>0</td>\n",
       "    </tr>\n",
       "    <tr>\n",
       "      <th>62</th>\n",
       "      <td>18:05</td>\n",
       "      <td>18:05</td>\n",
       "      <td>Delhi</td>\n",
       "      <td>Ahmedabad</td>\n",
       "      <td>2+-stop</td>\n",
       "      <td>Air India</td>\n",
       "      <td>20259</td>\n",
       "      <td>7</td>\n",
       "      <td>35</td>\n",
       "    </tr>\n",
       "    <tr>\n",
       "      <th>63</th>\n",
       "      <td>00:05</td>\n",
       "      <td>00:05</td>\n",
       "      <td>Delhi</td>\n",
       "      <td>Ahmedabad</td>\n",
       "      <td>1 Stop</td>\n",
       "      <td>GO FIRST</td>\n",
       "      <td>21601</td>\n",
       "      <td>13</td>\n",
       "      <td>40</td>\n",
       "    </tr>\n",
       "  </tbody>\n",
       "</table>\n",
       "<p>1739 rows × 9 columns</p>\n",
       "</div>"
      ],
      "text/plain": [
       "   Departure Time Arrival Time  Source Destination Stoppage Flight Name  \\\n",
       "0           16:05        20:40   Delhi   Bangalore   1 Stop     AirAsia   \n",
       "1           09:25        14:40   Delhi   Bangalore   1 Stop     AirAsia   \n",
       "2           15:25        20:40   Delhi   Bangalore   1 Stop     AirAsia   \n",
       "3           15:40        21:30   Delhi   Bangalore   1 Stop     AirAsia   \n",
       "4           05:00        11:35   Delhi   Bangalore   1 Stop     AirAsia   \n",
       "..            ...          ...     ...         ...      ...         ...   \n",
       "59          17:05        17:05   Delhi   Ahmedabad  2+-stop   Air India   \n",
       "60          18:00        18:00   Delhi   Ahmedabad   1 Stop   Air India   \n",
       "61          21:30        21:30   Delhi   Ahmedabad   1 Stop    GO FIRST   \n",
       "62          18:05        18:05   Delhi   Ahmedabad  2+-stop   Air India   \n",
       "63          00:05        00:05   Delhi   Ahmedabad   1 Stop    GO FIRST   \n",
       "\n",
       "    Price  Duration_hours  Duration_mins  \n",
       "0    7423               4             35  \n",
       "1    7423               5             15  \n",
       "2    7423               5             15  \n",
       "3    7423               5             50  \n",
       "4    7423               6             35  \n",
       "..    ...             ...            ...  \n",
       "59  17834              10             45  \n",
       "60  19763              12             35  \n",
       "61  20131              14              0  \n",
       "62  20259               7             35  \n",
       "63  21601              13             40  \n",
       "\n",
       "[1739 rows x 9 columns]"
      ]
     },
     "execution_count": 25,
     "metadata": {},
     "output_type": "execute_result"
    }
   ],
   "source": [
    "data"
   ]
  },
  {
   "cell_type": "markdown",
   "metadata": {},
   "source": [
    "# As the duration of hours increases, the price also increases"
   ]
  },
  {
   "cell_type": "code",
   "execution_count": 26,
   "metadata": {},
   "outputs": [
    {
     "data": {
      "text/html": [
       "<div>\n",
       "<style scoped>\n",
       "    .dataframe tbody tr th:only-of-type {\n",
       "        vertical-align: middle;\n",
       "    }\n",
       "\n",
       "    .dataframe tbody tr th {\n",
       "        vertical-align: top;\n",
       "    }\n",
       "\n",
       "    .dataframe thead th {\n",
       "        text-align: right;\n",
       "    }\n",
       "</style>\n",
       "<table border=\"1\" class=\"dataframe\">\n",
       "  <thead>\n",
       "    <tr style=\"text-align: right;\">\n",
       "      <th></th>\n",
       "      <th>Departure Time</th>\n",
       "      <th>Arrival Time</th>\n",
       "      <th>Source</th>\n",
       "      <th>Destination</th>\n",
       "      <th>Stoppage</th>\n",
       "      <th>Flight Name</th>\n",
       "      <th>Price</th>\n",
       "      <th>Duration_hours</th>\n",
       "    </tr>\n",
       "  </thead>\n",
       "  <tbody>\n",
       "    <tr>\n",
       "      <th>0</th>\n",
       "      <td>16:05</td>\n",
       "      <td>20:40</td>\n",
       "      <td>Delhi</td>\n",
       "      <td>Bangalore</td>\n",
       "      <td>1 Stop</td>\n",
       "      <td>AirAsia</td>\n",
       "      <td>7423</td>\n",
       "      <td>4</td>\n",
       "    </tr>\n",
       "    <tr>\n",
       "      <th>1</th>\n",
       "      <td>09:25</td>\n",
       "      <td>14:40</td>\n",
       "      <td>Delhi</td>\n",
       "      <td>Bangalore</td>\n",
       "      <td>1 Stop</td>\n",
       "      <td>AirAsia</td>\n",
       "      <td>7423</td>\n",
       "      <td>5</td>\n",
       "    </tr>\n",
       "    <tr>\n",
       "      <th>2</th>\n",
       "      <td>15:25</td>\n",
       "      <td>20:40</td>\n",
       "      <td>Delhi</td>\n",
       "      <td>Bangalore</td>\n",
       "      <td>1 Stop</td>\n",
       "      <td>AirAsia</td>\n",
       "      <td>7423</td>\n",
       "      <td>5</td>\n",
       "    </tr>\n",
       "    <tr>\n",
       "      <th>3</th>\n",
       "      <td>15:40</td>\n",
       "      <td>21:30</td>\n",
       "      <td>Delhi</td>\n",
       "      <td>Bangalore</td>\n",
       "      <td>1 Stop</td>\n",
       "      <td>AirAsia</td>\n",
       "      <td>7423</td>\n",
       "      <td>5</td>\n",
       "    </tr>\n",
       "    <tr>\n",
       "      <th>4</th>\n",
       "      <td>05:00</td>\n",
       "      <td>11:35</td>\n",
       "      <td>Delhi</td>\n",
       "      <td>Bangalore</td>\n",
       "      <td>1 Stop</td>\n",
       "      <td>AirAsia</td>\n",
       "      <td>7423</td>\n",
       "      <td>6</td>\n",
       "    </tr>\n",
       "    <tr>\n",
       "      <th>...</th>\n",
       "      <td>...</td>\n",
       "      <td>...</td>\n",
       "      <td>...</td>\n",
       "      <td>...</td>\n",
       "      <td>...</td>\n",
       "      <td>...</td>\n",
       "      <td>...</td>\n",
       "      <td>...</td>\n",
       "    </tr>\n",
       "    <tr>\n",
       "      <th>59</th>\n",
       "      <td>17:05</td>\n",
       "      <td>17:05</td>\n",
       "      <td>Delhi</td>\n",
       "      <td>Ahmedabad</td>\n",
       "      <td>2+-stop</td>\n",
       "      <td>Air India</td>\n",
       "      <td>17834</td>\n",
       "      <td>10</td>\n",
       "    </tr>\n",
       "    <tr>\n",
       "      <th>60</th>\n",
       "      <td>18:00</td>\n",
       "      <td>18:00</td>\n",
       "      <td>Delhi</td>\n",
       "      <td>Ahmedabad</td>\n",
       "      <td>1 Stop</td>\n",
       "      <td>Air India</td>\n",
       "      <td>19763</td>\n",
       "      <td>12</td>\n",
       "    </tr>\n",
       "    <tr>\n",
       "      <th>61</th>\n",
       "      <td>21:30</td>\n",
       "      <td>21:30</td>\n",
       "      <td>Delhi</td>\n",
       "      <td>Ahmedabad</td>\n",
       "      <td>1 Stop</td>\n",
       "      <td>GO FIRST</td>\n",
       "      <td>20131</td>\n",
       "      <td>14</td>\n",
       "    </tr>\n",
       "    <tr>\n",
       "      <th>62</th>\n",
       "      <td>18:05</td>\n",
       "      <td>18:05</td>\n",
       "      <td>Delhi</td>\n",
       "      <td>Ahmedabad</td>\n",
       "      <td>2+-stop</td>\n",
       "      <td>Air India</td>\n",
       "      <td>20259</td>\n",
       "      <td>7</td>\n",
       "    </tr>\n",
       "    <tr>\n",
       "      <th>63</th>\n",
       "      <td>00:05</td>\n",
       "      <td>00:05</td>\n",
       "      <td>Delhi</td>\n",
       "      <td>Ahmedabad</td>\n",
       "      <td>1 Stop</td>\n",
       "      <td>GO FIRST</td>\n",
       "      <td>21601</td>\n",
       "      <td>13</td>\n",
       "    </tr>\n",
       "  </tbody>\n",
       "</table>\n",
       "<p>1739 rows × 8 columns</p>\n",
       "</div>"
      ],
      "text/plain": [
       "   Departure Time Arrival Time  Source Destination Stoppage Flight Name  \\\n",
       "0           16:05        20:40   Delhi   Bangalore   1 Stop     AirAsia   \n",
       "1           09:25        14:40   Delhi   Bangalore   1 Stop     AirAsia   \n",
       "2           15:25        20:40   Delhi   Bangalore   1 Stop     AirAsia   \n",
       "3           15:40        21:30   Delhi   Bangalore   1 Stop     AirAsia   \n",
       "4           05:00        11:35   Delhi   Bangalore   1 Stop     AirAsia   \n",
       "..            ...          ...     ...         ...      ...         ...   \n",
       "59          17:05        17:05   Delhi   Ahmedabad  2+-stop   Air India   \n",
       "60          18:00        18:00   Delhi   Ahmedabad   1 Stop   Air India   \n",
       "61          21:30        21:30   Delhi   Ahmedabad   1 Stop    GO FIRST   \n",
       "62          18:05        18:05   Delhi   Ahmedabad  2+-stop   Air India   \n",
       "63          00:05        00:05   Delhi   Ahmedabad   1 Stop    GO FIRST   \n",
       "\n",
       "    Price  Duration_hours  \n",
       "0    7423               4  \n",
       "1    7423               5  \n",
       "2    7423               5  \n",
       "3    7423               5  \n",
       "4    7423               6  \n",
       "..    ...             ...  \n",
       "59  17834              10  \n",
       "60  19763              12  \n",
       "61  20131              14  \n",
       "62  20259               7  \n",
       "63  21601              13  \n",
       "\n",
       "[1739 rows x 8 columns]"
      ]
     },
     "execution_count": 26,
     "metadata": {},
     "output_type": "execute_result"
    }
   ],
   "source": [
    "data.drop(columns=['Duration_mins'])"
   ]
  },
  {
   "cell_type": "markdown",
   "metadata": {},
   "source": [
    "# Highest correlation with the price is with the \"Duration_hour\""
   ]
  },
  {
   "cell_type": "code",
   "execution_count": 27,
   "metadata": {},
   "outputs": [],
   "source": [
    "for i in data.columns:\n",
    "        from sklearn.preprocessing import LabelEncoder\n",
    "        le=LabelEncoder()\n",
    "        data[i]=le.fit_transform(data[i])"
   ]
  },
  {
   "cell_type": "code",
   "execution_count": 28,
   "metadata": {},
   "outputs": [
    {
     "data": {
      "text/html": [
       "<div>\n",
       "<style scoped>\n",
       "    .dataframe tbody tr th:only-of-type {\n",
       "        vertical-align: middle;\n",
       "    }\n",
       "\n",
       "    .dataframe tbody tr th {\n",
       "        vertical-align: top;\n",
       "    }\n",
       "\n",
       "    .dataframe thead th {\n",
       "        text-align: right;\n",
       "    }\n",
       "</style>\n",
       "<table border=\"1\" class=\"dataframe\">\n",
       "  <thead>\n",
       "    <tr style=\"text-align: right;\">\n",
       "      <th></th>\n",
       "      <th>Departure Time</th>\n",
       "      <th>Arrival Time</th>\n",
       "      <th>Source</th>\n",
       "      <th>Destination</th>\n",
       "      <th>Stoppage</th>\n",
       "      <th>Flight Name</th>\n",
       "      <th>Price</th>\n",
       "      <th>Duration_hours</th>\n",
       "      <th>Duration_mins</th>\n",
       "    </tr>\n",
       "  </thead>\n",
       "  <tbody>\n",
       "    <tr>\n",
       "      <th>0</th>\n",
       "      <td>150</td>\n",
       "      <td>292</td>\n",
       "      <td>0</td>\n",
       "      <td>1</td>\n",
       "      <td>0</td>\n",
       "      <td>1</td>\n",
       "      <td>85</td>\n",
       "      <td>4</td>\n",
       "      <td>7</td>\n",
       "    </tr>\n",
       "    <tr>\n",
       "      <th>1</th>\n",
       "      <td>73</td>\n",
       "      <td>200</td>\n",
       "      <td>0</td>\n",
       "      <td>1</td>\n",
       "      <td>0</td>\n",
       "      <td>1</td>\n",
       "      <td>85</td>\n",
       "      <td>5</td>\n",
       "      <td>3</td>\n",
       "    </tr>\n",
       "    <tr>\n",
       "      <th>2</th>\n",
       "      <td>143</td>\n",
       "      <td>292</td>\n",
       "      <td>0</td>\n",
       "      <td>1</td>\n",
       "      <td>0</td>\n",
       "      <td>1</td>\n",
       "      <td>85</td>\n",
       "      <td>5</td>\n",
       "      <td>3</td>\n",
       "    </tr>\n",
       "    <tr>\n",
       "      <th>3</th>\n",
       "      <td>146</td>\n",
       "      <td>307</td>\n",
       "      <td>0</td>\n",
       "      <td>1</td>\n",
       "      <td>0</td>\n",
       "      <td>1</td>\n",
       "      <td>85</td>\n",
       "      <td>5</td>\n",
       "      <td>10</td>\n",
       "    </tr>\n",
       "    <tr>\n",
       "      <th>4</th>\n",
       "      <td>24</td>\n",
       "      <td>155</td>\n",
       "      <td>0</td>\n",
       "      <td>1</td>\n",
       "      <td>0</td>\n",
       "      <td>1</td>\n",
       "      <td>85</td>\n",
       "      <td>6</td>\n",
       "      <td>7</td>\n",
       "    </tr>\n",
       "    <tr>\n",
       "      <th>...</th>\n",
       "      <td>...</td>\n",
       "      <td>...</td>\n",
       "      <td>...</td>\n",
       "      <td>...</td>\n",
       "      <td>...</td>\n",
       "      <td>...</td>\n",
       "      <td>...</td>\n",
       "      <td>...</td>\n",
       "      <td>...</td>\n",
       "    </tr>\n",
       "    <tr>\n",
       "      <th>59</th>\n",
       "      <td>160</td>\n",
       "      <td>238</td>\n",
       "      <td>3</td>\n",
       "      <td>0</td>\n",
       "      <td>2</td>\n",
       "      <td>0</td>\n",
       "      <td>498</td>\n",
       "      <td>10</td>\n",
       "      <td>9</td>\n",
       "    </tr>\n",
       "    <tr>\n",
       "      <th>60</th>\n",
       "      <td>171</td>\n",
       "      <td>251</td>\n",
       "      <td>3</td>\n",
       "      <td>0</td>\n",
       "      <td>0</td>\n",
       "      <td>0</td>\n",
       "      <td>522</td>\n",
       "      <td>12</td>\n",
       "      <td>7</td>\n",
       "    </tr>\n",
       "    <tr>\n",
       "      <th>61</th>\n",
       "      <td>212</td>\n",
       "      <td>307</td>\n",
       "      <td>3</td>\n",
       "      <td>0</td>\n",
       "      <td>0</td>\n",
       "      <td>2</td>\n",
       "      <td>530</td>\n",
       "      <td>14</td>\n",
       "      <td>0</td>\n",
       "    </tr>\n",
       "    <tr>\n",
       "      <th>62</th>\n",
       "      <td>172</td>\n",
       "      <td>252</td>\n",
       "      <td>3</td>\n",
       "      <td>0</td>\n",
       "      <td>2</td>\n",
       "      <td>0</td>\n",
       "      <td>531</td>\n",
       "      <td>7</td>\n",
       "      <td>7</td>\n",
       "    </tr>\n",
       "    <tr>\n",
       "      <th>63</th>\n",
       "      <td>0</td>\n",
       "      <td>0</td>\n",
       "      <td>3</td>\n",
       "      <td>0</td>\n",
       "      <td>0</td>\n",
       "      <td>2</td>\n",
       "      <td>541</td>\n",
       "      <td>13</td>\n",
       "      <td>8</td>\n",
       "    </tr>\n",
       "  </tbody>\n",
       "</table>\n",
       "<p>1739 rows × 9 columns</p>\n",
       "</div>"
      ],
      "text/plain": [
       "    Departure Time  Arrival Time  Source  Destination  Stoppage  Flight Name  \\\n",
       "0              150           292       0            1         0            1   \n",
       "1               73           200       0            1         0            1   \n",
       "2              143           292       0            1         0            1   \n",
       "3              146           307       0            1         0            1   \n",
       "4               24           155       0            1         0            1   \n",
       "..             ...           ...     ...          ...       ...          ...   \n",
       "59             160           238       3            0         2            0   \n",
       "60             171           251       3            0         0            0   \n",
       "61             212           307       3            0         0            2   \n",
       "62             172           252       3            0         2            0   \n",
       "63               0             0       3            0         0            2   \n",
       "\n",
       "    Price  Duration_hours  Duration_mins  \n",
       "0      85               4              7  \n",
       "1      85               5              3  \n",
       "2      85               5              3  \n",
       "3      85               5             10  \n",
       "4      85               6              7  \n",
       "..    ...             ...            ...  \n",
       "59    498              10              9  \n",
       "60    522              12              7  \n",
       "61    530              14              0  \n",
       "62    531               7              7  \n",
       "63    541              13              8  \n",
       "\n",
       "[1739 rows x 9 columns]"
      ]
     },
     "execution_count": 28,
     "metadata": {},
     "output_type": "execute_result"
    }
   ],
   "source": [
    "data"
   ]
  },
  {
   "cell_type": "code",
   "execution_count": 29,
   "metadata": {},
   "outputs": [
    {
     "data": {
      "text/plain": [
       "<AxesSubplot:>"
      ]
     },
     "execution_count": 29,
     "metadata": {},
     "output_type": "execute_result"
    },
    {
     "data": {
      "image/png": "[encoded data removed]",
      "text/plain": [
       "<Figure size 1440x504 with 2 Axes>"
      ]
     },
     "metadata": {
      "needs_background": "light"
     },
     "output_type": "display_data"
    }
   ],
   "source": [
    "## we will correlate the data and visualize through heatmap\n",
    "plt.figure(figsize=(20,7))\n",
    "sns.heatmap(data.corr(), annot=True)"
   ]
  },
  {
   "cell_type": "code",
   "execution_count": 30,
   "metadata": {},
   "outputs": [
    {
     "data": {
      "image/png": "[encoded data removed]",
      "text/plain": [
       "<Figure size 1080x1440 with 9 Axes>"
      ]
     },
     "metadata": {},
     "output_type": "display_data"
    }
   ],
   "source": [
    "### Now we will visualize the data to see the outlier\n",
    "\n",
    "plt.figure(figsize=(15,20),facecolor='white')\n",
    "plotnumber=1\n",
    "\n",
    "\n",
    "#for columns in data.columns.values:\n",
    "for column in data:\n",
    "    if plotnumber<=9:\n",
    "        \n",
    "        ax=plt.subplot(3,3,plotnumber)\n",
    "        sns.distplot(data[column])\n",
    "        plt.xlabel(column,fontsize=25)\n",
    "    plotnumber+=1\n",
    "plt.show()"
   ]
  },
  {
   "cell_type": "code",
   "execution_count": 31,
   "metadata": {},
   "outputs": [
    {
     "data": {
      "text/plain": [
       "Departure Time    0.180977\n",
       "Arrival Time     -0.358172\n",
       "Source            0.443870\n",
       "Destination      -0.412214\n",
       "Stoppage          1.274133\n",
       "Flight Name      -0.119193\n",
       "Price             0.489419\n",
       "Duration_hours    1.096565\n",
       "Duration_mins     0.069360\n",
       "dtype: float64"
      ]
     },
     "execution_count": 31,
     "metadata": {},
     "output_type": "execute_result"
    }
   ],
   "source": [
    "data.skew()"
   ]
  },
  {
   "cell_type": "code",
   "execution_count": 32,
   "metadata": {},
   "outputs": [],
   "source": [
    "from scipy.stats import zscore\n",
    "import numpy as np"
   ]
  },
  {
   "cell_type": "code",
   "execution_count": 33,
   "metadata": {},
   "outputs": [
    {
     "name": "stdout",
     "output_type": "stream",
     "text": [
      "(1739, 9)\n",
      "(1720, 9)\n"
     ]
    }
   ],
   "source": [
    "z=np.abs(zscore(data))\n",
    "threshold=3\n",
    "data_new=data[(z<3).all(axis=1)]\n",
    "print(data.shape)\n",
    "print(data_new.shape)"
   ]
  },
  {
   "cell_type": "code",
   "execution_count": 34,
   "metadata": {},
   "outputs": [],
   "source": [
    "x=data_new.drop('Price',axis=1)\n",
    "y=data_new['Price']"
   ]
  },
  {
   "cell_type": "code",
   "execution_count": 35,
   "metadata": {},
   "outputs": [],
   "source": [
    "from sklearn.model_selection import train_test_split,cross_val_score\n",
    "x_train, x_test, y_train, y_test = train_test_split(x, y, test_size=0.20, random_state=1)"
   ]
  },
  {
   "cell_type": "markdown",
   "metadata": {},
   "source": [
    "# Building the model"
   ]
  },
  {
   "cell_type": "code",
   "execution_count": 36,
   "metadata": {},
   "outputs": [],
   "source": [
    "# RandomForestRegressor\n",
    "\n",
    "regressor=RandomForestRegressor(n_estimators = 100, random_state = 15)\n",
    "regressor.fit(x_train,y_train)\n",
    "y_Pred=regressor.predict(x_test)"
   ]
  },
  {
   "cell_type": "code",
   "execution_count": 37,
   "metadata": {},
   "outputs": [
    {
     "name": "stdout",
     "output_type": "stream",
     "text": [
      "Training Score : 0.9444864995005026\n",
      "Test Score     : 1.0\n"
     ]
    }
   ],
   "source": [
    "print('Training Score :',regressor.score(x_train, y_train))\n",
    "print('Test Score     :',regressor.score(x_test, y_Pred))"
   ]
  },
  {
   "cell_type": "code",
   "execution_count": 64,
   "metadata": {},
   "outputs": [],
   "source": [
    "# Linear Regression\n",
    "\n",
    "lr= LinearRegression()\n",
    "lr.fit(x_train, y_train)\n",
    "Y_pred = lr.predict(x_test)"
   ]
  },
  {
   "cell_type": "code",
   "execution_count": 65,
   "metadata": {},
   "outputs": [
    {
     "name": "stdout",
     "output_type": "stream",
     "text": [
      "Training Score : 0.3020784969777255\n",
      "Test Score     : 1.0\n"
     ]
    }
   ],
   "source": [
    "print('Training Score :',lr.score(x_train, y_train))\n",
    "print('Test Score     :',lr.score(x_test, Y_pred))"
   ]
  },
  {
   "cell_type": "code",
   "execution_count": 40,
   "metadata": {},
   "outputs": [],
   "source": [
    "# DecisionTreeRegressor\n",
    "\n",
    "dt=DecisionTreeRegressor()\n",
    "dt.fit(x_train, y_train)\n",
    "Y_pred = dt.predict(x_test)"
   ]
  },
  {
   "cell_type": "code",
   "execution_count": 41,
   "metadata": {},
   "outputs": [
    {
     "name": "stdout",
     "output_type": "stream",
     "text": [
      "Training Score : 0.999501698555937\n",
      "Test Score     : 1.0\n"
     ]
    }
   ],
   "source": [
    "#score3=r2_score(y_test,Y_pred)\n",
    "#score3\n",
    "print('Training Score :',dt.score(x_train, y_train))\n",
    "print('Test Score     :',dt.score(x_test, Y_pred))"
   ]
  },
  {
   "cell_type": "code",
   "execution_count": 42,
   "metadata": {},
   "outputs": [
    {
     "data": {
      "text/plain": [
       "XGBRegressor(base_score=0.5, booster='gbtree', colsample_bylevel=1,\n",
       "             colsample_bynode=1, colsample_bytree=1, gamma=0, gpu_id=-1,\n",
       "             importance_type='gain', interaction_constraints='',\n",
       "             learning_rate=0.300000012, max_delta_step=0, max_depth=6,\n",
       "             min_child_weight=1, missing=nan, monotone_constraints='()',\n",
       "             n_estimators=100, n_jobs=4, num_parallel_tree=1, random_state=0,\n",
       "             reg_alpha=0, reg_lambda=1, scale_pos_weight=1, subsample=1,\n",
       "             tree_method='exact', validate_parameters=1, verbosity=None)"
      ]
     },
     "execution_count": 42,
     "metadata": {},
     "output_type": "execute_result"
    }
   ],
   "source": [
    "from xgboost import XGBRegressor\n",
    "model =  XGBRegressor()\n",
    "model.fit(x_train,y_train)"
   ]
  },
  {
   "cell_type": "code",
   "execution_count": 43,
   "metadata": {},
   "outputs": [
    {
     "name": "stdout",
     "output_type": "stream",
     "text": [
      "Training Score : 0.9881369973845\n",
      "Test Score     : 1.0\n"
     ]
    }
   ],
   "source": [
    "y_pred =  model.predict(x_test)\n",
    "print('Training Score :',model.score(x_train, y_train))\n",
    "print('Test Score     :',model.score(x_test, y_pred))"
   ]
  },
  {
   "cell_type": "code",
   "execution_count": 44,
   "metadata": {},
   "outputs": [
    {
     "data": {
      "text/plain": [
       "Ridge()"
      ]
     },
     "execution_count": 44,
     "metadata": {},
     "output_type": "execute_result"
    }
   ],
   "source": [
    "\n",
    "rd =  Ridge()\n",
    "rd.fit(x_train,y_train)"
   ]
  },
  {
   "cell_type": "code",
   "execution_count": 45,
   "metadata": {},
   "outputs": [
    {
     "name": "stdout",
     "output_type": "stream",
     "text": [
      "Training Score : 0.3020784959654056\n",
      "Test Score     : 1.0\n"
     ]
    }
   ],
   "source": [
    "Y_pred =  rd.predict(x_test)\n",
    "print('Training Score :',rd.score(x_train, y_train))\n",
    "print('Test Score     :',rd.score(x_test, Y_pred))"
   ]
  },
  {
   "cell_type": "code",
   "execution_count": 46,
   "metadata": {},
   "outputs": [
    {
     "data": {
      "text/plain": [
       "Lasso()"
      ]
     },
     "execution_count": 46,
     "metadata": {},
     "output_type": "execute_result"
    }
   ],
   "source": [
    "ls =  Lasso()\n",
    "ls.fit(x_train,y_train)"
   ]
  },
  {
   "cell_type": "code",
   "execution_count": 47,
   "metadata": {},
   "outputs": [
    {
     "name": "stdout",
     "output_type": "stream",
     "text": [
      "Training Score : 0.30203690269128336\n",
      "Test Score     : 1.0\n"
     ]
    }
   ],
   "source": [
    "Y_pred =  ls.predict(x_test)\n",
    "print('Training Score :',ls.score(x_train, y_train))\n",
    "print('Test Score     :',ls.score(x_test, Y_pred))"
   ]
  },
  {
   "cell_type": "code",
   "execution_count": 48,
   "metadata": {},
   "outputs": [
    {
     "data": {
      "text/plain": [
       "0.5037383770054058"
      ]
     },
     "execution_count": 48,
     "metadata": {},
     "output_type": "execute_result"
    }
   ],
   "source": [
    "from sklearn.ensemble import GradientBoostingRegressor\n",
    "gbr=GradientBoostingRegressor()\n",
    "gbr.fit(x_train,y_train)\n",
    "predict_gbr=gbr.predict(x_test)\n",
    "gbr.score(x_test,y_test)"
   ]
  },
  {
   "cell_type": "code",
   "execution_count": 49,
   "metadata": {},
   "outputs": [
    {
     "name": "stdout",
     "output_type": "stream",
     "text": [
      "Mean squared error (MSE): 10489.15\n",
      "Coefficient of determination (R^2): 0.50\n"
     ]
    }
   ],
   "source": [
    "print('Mean squared error (MSE): %.2f'\n",
    "      % mean_squared_error(y_test, predict_gbr))\n",
    "print('Coefficient of determination (R^2): %.2f'\n",
    "      % r2_score(y_test, predict_gbr))"
   ]
  },
  {
   "cell_type": "code",
   "execution_count": 50,
   "metadata": {},
   "outputs": [
    {
     "data": {
      "text/plain": [
       "0.5403310521870408"
      ]
     },
     "execution_count": 50,
     "metadata": {},
     "output_type": "execute_result"
    }
   ],
   "source": [
    "from sklearn.ensemble import RandomForestRegressor\n",
    "rf=RandomForestRegressor()\n",
    "rf.fit(x_train,y_train)\n",
    "predict_rf=rf.predict(x_test)\n",
    "rf.score(x_test,y_test)"
   ]
  },
  {
   "cell_type": "code",
   "execution_count": 51,
   "metadata": {},
   "outputs": [
    {
     "name": "stdout",
     "output_type": "stream",
     "text": [
      "Mean squared error (MSE): 9715.72\n",
      "Coefficient of determination (R^2): 0.54\n"
     ]
    }
   ],
   "source": [
    "print('Mean squared error (MSE): %.2f'\n",
    "      % mean_squared_error(y_test, predict_rf))\n",
    "print('Coefficient of determination (R^2): %.2f'\n",
    "      % r2_score(y_test, predict_rf))"
   ]
  },
  {
   "cell_type": "markdown",
   "metadata": {},
   "source": [
    "# Hyper-Parameter Tunning"
   ]
  },
  {
   "cell_type": "code",
   "execution_count": 55,
   "metadata": {},
   "outputs": [
    {
     "name": "stdout",
     "output_type": "stream",
     "text": [
      "Tuned Decision Tree Parameters: {'n_estimators': 50, 'max_features': 'log2', 'max_depth': 5}\n",
      "Best score is 0.49251058844389795\n"
     ]
    }
   ],
   "source": [
    "from sklearn.model_selection import RandomizedSearchCV\n",
    "param_dist = {'n_estimators': [10, 25, 50, 100, 150, 200],\n",
    "                       'max_features':['auto','square','log2'],\n",
    "                       'max_depth':[1, 2, 3, 4, 5]}\n",
    "\n",
    "tree_cv = RandomizedSearchCV(rf, param_dist, cv = 5)\n",
    "\n",
    "tree_cv.fit(x_train, y_train)\n",
    "print(\"Tuned Decision Tree Parameters: {}\".format(tree_cv.best_params_))\n",
    "print(\"Best score is {}\".format(tree_cv.best_score_))"
   ]
  },
  {
   "cell_type": "code",
   "execution_count": 58,
   "metadata": {},
   "outputs": [
    {
     "name": "stdout",
     "output_type": "stream",
     "text": [
      "54.03310521870408\n"
     ]
    }
   ],
   "source": [
    "mod=RandomForestRegressor(max_depth=5,max_features='log2',n_estimators=50)\n",
    "mod.fit(x_train,y_train)\n",
    "pred=mod.predict(x_test)\n",
    "print(rf.score(x_test,y_test)*100)"
   ]
  },
  {
   "cell_type": "markdown",
   "metadata": {},
   "source": [
    "# Saving the model"
   ]
  },
  {
   "cell_type": "code",
   "execution_count": 59,
   "metadata": {},
   "outputs": [
    {
     "data": {
      "text/plain": [
       "['flight_price_prediction_model.pkl']"
      ]
     },
     "execution_count": 59,
     "metadata": {},
     "output_type": "execute_result"
    }
   ],
   "source": [
    "import joblib\n",
    "joblib.dump(mod,\"flight_price_prediction_model.pkl\")"
   ]
  },
  {
   "cell_type": "code",
   "execution_count": null,
   "metadata": {},
   "outputs": [],
   "source": []
  }
 ],
 "metadata": {
  "kernelspec": {
   "display_name": "Python 3",
   "language": "python",
   "name": "python3"
  },
  "language_info": {
   "codemirror_mode": {
    "name": "ipython",
    "version": 3
   },
   "file_extension": ".py",
   "mimetype": "text/x-python",
   "name": "python",
   "nbconvert_exporter": "python",
   "pygments_lexer": "ipython3",
   "version": "3.8.5"
  }
 },
 "nbformat": 4,
 "nbformat_minor": 4
}
